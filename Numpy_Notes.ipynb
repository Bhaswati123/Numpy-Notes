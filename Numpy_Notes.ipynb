{
  "nbformat": 4,
  "nbformat_minor": 0,
  "metadata": {
    "colab": {
      "name": "Numpy Notes.ipynb",
      "provenance": [],
      "collapsed_sections": []
    },
    "kernelspec": {
      "name": "python3",
      "display_name": "Python 3"
    },
    "language_info": {
      "name": "python"
    }
  },
  "cells": [
    {
      "cell_type": "markdown",
      "metadata": {
        "id": "Ck3yb6rARsfy"
      },
      "source": [
        "**Numpy Array**\n",
        "\n",
        "Num: Numerical\n",
        "\n",
        "Py: Python"
      ]
    },
    {
      "cell_type": "code",
      "metadata": {
        "colab": {
          "base_uri": "https://localhost:8080/"
        },
        "id": "Zr4es8LU64Z2",
        "outputId": "beae0fe3-10b6-4901-b041-a623f9630c92"
      },
      "source": [
        "import warnings\n",
        "warnings.filterwarnings('ignore')\n",
        "import numpy as np\n",
        "np.array(['abc',2,3])"
      ],
      "execution_count": 37,
      "outputs": [
        {
          "output_type": "execute_result",
          "data": {
            "text/plain": [
              "array(['abc', '2', '3'], dtype='<U3')"
            ]
          },
          "metadata": {
            "tags": []
          },
          "execution_count": 37
        }
      ]
    },
    {
      "cell_type": "code",
      "metadata": {
        "colab": {
          "base_uri": "https://localhost:8080/"
        },
        "id": "a8kdwBTtA6Z4",
        "outputId": "d52f9957-0742-4883-e645-ac64ff8723cf"
      },
      "source": [
        "type(np.array(['abc',2,3]))\n",
        "\n",
        "#nparray: n dimensional array"
      ],
      "execution_count": null,
      "outputs": [
        {
          "output_type": "execute_result",
          "data": {
            "text/plain": [
              "numpy.ndarray"
            ]
          },
          "metadata": {
            "tags": []
          },
          "execution_count": 2
        }
      ]
    },
    {
      "cell_type": "code",
      "metadata": {
        "colab": {
          "base_uri": "https://localhost:8080/"
        },
        "id": "5r-XWxA0BAli",
        "outputId": "e163c6d7-3b19-4f8b-b76d-e25188a4fd6f"
      },
      "source": [
        "#Upcasting:\n",
        "\n",
        "np.array([1,2,3.0])\n",
        "\n",
        "#Upcasting gives the floating point number here.Numpy does the upcasting operation.s"
      ],
      "execution_count": null,
      "outputs": [
        {
          "output_type": "execute_result",
          "data": {
            "text/plain": [
              "array([1., 2., 3.])"
            ]
          },
          "metadata": {
            "tags": []
          },
          "execution_count": 3
        }
      ]
    },
    {
      "cell_type": "code",
      "metadata": {
        "colab": {
          "base_uri": "https://localhost:8080/"
        },
        "id": "zdesu8xTQL-z",
        "outputId": "766feb84-55c4-47ad-95d0-55f6d5af5b8a"
      },
      "source": [
        "#two dimensions\n",
        "\n",
        "np.array([[1,2],[3,4]])"
      ],
      "execution_count": null,
      "outputs": [
        {
          "output_type": "execute_result",
          "data": {
            "text/plain": [
              "array([[1, 2],\n",
              "       [3, 4]])"
            ]
          },
          "metadata": {
            "tags": []
          },
          "execution_count": 4
        }
      ]
    },
    {
      "cell_type": "code",
      "metadata": {
        "colab": {
          "base_uri": "https://localhost:8080/"
        },
        "id": "v8P_vXaPQ9iK",
        "outputId": "97aaf3ff-3e78-40d0-b6ef-0eed4c67c7f9"
      },
      "source": [
        "np.array([[1,2],[3,4]],ndmin=6)"
      ],
      "execution_count": null,
      "outputs": [
        {
          "output_type": "execute_result",
          "data": {
            "text/plain": [
              "array([[[[[[1, 2],\n",
              "           [3, 4]]]]]])"
            ]
          },
          "metadata": {
            "tags": []
          },
          "execution_count": 6
        }
      ]
    },
    {
      "cell_type": "code",
      "metadata": {
        "colab": {
          "base_uri": "https://localhost:8080/"
        },
        "id": "PISCDas3QMHu",
        "outputId": "93294d5d-5a72-41e1-985d-83571f16f1a5"
      },
      "source": [
        "np.array([1,2,3],ndmin=5)\n",
        "\n",
        "#ndmin: number of dimensions"
      ],
      "execution_count": null,
      "outputs": [
        {
          "output_type": "execute_result",
          "data": {
            "text/plain": [
              "array([[[[[1, 2, 3]]]]])"
            ]
          },
          "metadata": {
            "tags": []
          },
          "execution_count": 5
        }
      ]
    },
    {
      "cell_type": "code",
      "metadata": {
        "colab": {
          "base_uri": "https://localhost:8080/"
        },
        "id": "oBxjKLElQMKX",
        "outputId": "4a115c84-7d6c-4f49-9eca-5c97bc5e8d66"
      },
      "source": [
        "#dtype\n",
        "\n",
        "np.array([1,2,3],dtype=complex)"
      ],
      "execution_count": null,
      "outputs": [
        {
          "output_type": "execute_result",
          "data": {
            "text/plain": [
              "array([1.+0.j, 2.+0.j, 3.+0.j])"
            ]
          },
          "metadata": {
            "tags": []
          },
          "execution_count": 7
        }
      ]
    },
    {
      "cell_type": "code",
      "metadata": {
        "colab": {
          "base_uri": "https://localhost:8080/"
        },
        "id": "B8hOO5zAQMM9",
        "outputId": "f0e13ae3-5d7b-43d1-9c24-4c703b30a911"
      },
      "source": [
        "#Data -type consisting of more than one element:\n",
        "\n",
        "x=np.array([(1,2),(3,4)],dtype=[('a','<i2'),('b','<i8')])\n",
        "x"
      ],
      "execution_count": null,
      "outputs": [
        {
          "output_type": "execute_result",
          "data": {
            "text/plain": [
              "array([(1, 2), (3, 4)], dtype=[('a', '<i2'), ('b', '<i8')])"
            ]
          },
          "metadata": {
            "tags": []
          },
          "execution_count": 11
        }
      ]
    },
    {
      "cell_type": "code",
      "metadata": {
        "colab": {
          "base_uri": "https://localhost:8080/"
        },
        "id": "Mdv0ppo3W-8u",
        "outputId": "6c6ed3ab-3e15-48ac-959a-6237f768e9c7"
      },
      "source": [
        "type(x[1][0])"
      ],
      "execution_count": null,
      "outputs": [
        {
          "output_type": "execute_result",
          "data": {
            "text/plain": [
              "numpy.int16"
            ]
          },
          "metadata": {
            "tags": []
          },
          "execution_count": 12
        }
      ]
    },
    {
      "cell_type": "code",
      "metadata": {
        "id": "iM4_30rTW-_o",
        "colab": {
          "base_uri": "https://localhost:8080/"
        },
        "outputId": "bb160bd7-3d08-459d-e732-bec9af4890ee"
      },
      "source": [
        "arr=np.array([(1,2),(3,4)])\n",
        "arr"
      ],
      "execution_count": null,
      "outputs": [
        {
          "output_type": "execute_result",
          "data": {
            "text/plain": [
              "array([[1, 2],\n",
              "       [3, 4]])"
            ]
          },
          "metadata": {
            "tags": []
          },
          "execution_count": 9
        }
      ]
    },
    {
      "cell_type": "code",
      "metadata": {
        "id": "CyRCXveyW_Ck",
        "colab": {
          "base_uri": "https://localhost:8080/"
        },
        "outputId": "7d766932-7b11-4706-f891-e7a2704b86fb"
      },
      "source": [
        "arr[0][1]"
      ],
      "execution_count": null,
      "outputs": [
        {
          "output_type": "execute_result",
          "data": {
            "text/plain": [
              "2"
            ]
          },
          "metadata": {
            "tags": []
          },
          "execution_count": 10
        }
      ]
    },
    {
      "cell_type": "code",
      "metadata": {
        "id": "q9_IkiM7W_GI",
        "colab": {
          "base_uri": "https://localhost:8080/"
        },
        "outputId": "a2008d95-c081-4424-df51-243251fdfc16"
      },
      "source": [
        "x=np.array([(1,2),(3,4)],dtype=[('a','<i2'),('b','<i8')])\n",
        "x"
      ],
      "execution_count": null,
      "outputs": [
        {
          "output_type": "execute_result",
          "data": {
            "text/plain": [
              "array([(1, 2), (3, 4)], dtype=[('a', '<i2'), ('b', '<i8')])"
            ]
          },
          "metadata": {
            "tags": []
          },
          "execution_count": 11
        }
      ]
    },
    {
      "cell_type": "code",
      "metadata": {
        "id": "2dNBBG5DQMQm",
        "colab": {
          "base_uri": "https://localhost:8080/"
        },
        "outputId": "ba0e395d-fd83-4999-f878-1d5c65522ca0"
      },
      "source": [
        "type(x[0][1])"
      ],
      "execution_count": null,
      "outputs": [
        {
          "output_type": "execute_result",
          "data": {
            "text/plain": [
              "numpy.int64"
            ]
          },
          "metadata": {
            "tags": []
          },
          "execution_count": 12
        }
      ]
    },
    {
      "cell_type": "code",
      "metadata": {
        "colab": {
          "base_uri": "https://localhost:8080/"
        },
        "id": "ABUyhWh03ULv",
        "outputId": "380fdcfa-beaf-4a37-afd5-0eed1ed6e659"
      },
      "source": [
        "x[1][1]"
      ],
      "execution_count": null,
      "outputs": [
        {
          "output_type": "execute_result",
          "data": {
            "text/plain": [
              "4"
            ]
          },
          "metadata": {
            "tags": []
          },
          "execution_count": 15
        }
      ]
    },
    {
      "cell_type": "code",
      "metadata": {
        "colab": {
          "base_uri": "https://localhost:8080/"
        },
        "id": "kL1jQvTc3eY5",
        "outputId": "fd546f0f-a51a-427e-c8d4-0f0c0f775ea6"
      },
      "source": [
        "type(x)"
      ],
      "execution_count": null,
      "outputs": [
        {
          "output_type": "execute_result",
          "data": {
            "text/plain": [
              "numpy.ndarray"
            ]
          },
          "metadata": {
            "tags": []
          },
          "execution_count": 16
        }
      ]
    },
    {
      "cell_type": "code",
      "metadata": {
        "colab": {
          "base_uri": "https://localhost:8080/"
        },
        "id": "HRXJmDar3ebW",
        "outputId": "3fa8b027-422c-4aa1-9e00-6227e982fabd"
      },
      "source": [
        "#creating an array from sub-classes\n",
        "\n",
        "np.array([[1,2],[4,7]])"
      ],
      "execution_count": null,
      "outputs": [
        {
          "output_type": "execute_result",
          "data": {
            "text/plain": [
              "array([[1, 2],\n",
              "       [4, 7]])"
            ]
          },
          "metadata": {
            "tags": []
          },
          "execution_count": 17
        }
      ]
    },
    {
      "cell_type": "code",
      "metadata": {
        "colab": {
          "base_uri": "https://localhost:8080/"
        },
        "id": "ZuqSBrqJ3eeM",
        "outputId": "7e6e93d4-c49b-4b51-deab-2d62163b6e40"
      },
      "source": [
        "np.mat(np.array([[1,2],[4,7]]))"
      ],
      "execution_count": null,
      "outputs": [
        {
          "output_type": "execute_result",
          "data": {
            "text/plain": [
              "matrix([[1, 2],\n",
              "        [4, 7]])"
            ]
          },
          "metadata": {
            "tags": []
          },
          "execution_count": 19
        }
      ]
    },
    {
      "cell_type": "code",
      "metadata": {
        "colab": {
          "base_uri": "https://localhost:8080/"
        },
        "id": "b0Po68Yy3eiL",
        "outputId": "10a0e988-fbdb-41c3-9e04-93855b54c265"
      },
      "source": [
        "np.mat('1,2;3,4')"
      ],
      "execution_count": null,
      "outputs": [
        {
          "output_type": "execute_result",
          "data": {
            "text/plain": [
              "matrix([[1, 2],\n",
              "        [3, 4]])"
            ]
          },
          "metadata": {
            "tags": []
          },
          "execution_count": 22
        }
      ]
    },
    {
      "cell_type": "code",
      "metadata": {
        "colab": {
          "base_uri": "https://localhost:8080/"
        },
        "id": "zRCD4suL77hE",
        "outputId": "a23ad886-33f1-40a6-e515-472d526c7765"
      },
      "source": [
        "np.mat([1,2])"
      ],
      "execution_count": null,
      "outputs": [
        {
          "output_type": "execute_result",
          "data": {
            "text/plain": [
              "matrix([[1, 2]])"
            ]
          },
          "metadata": {
            "tags": []
          },
          "execution_count": 23
        }
      ]
    },
    {
      "cell_type": "code",
      "metadata": {
        "colab": {
          "base_uri": "https://localhost:8080/"
        },
        "id": "nEIAcTZt77ju",
        "outputId": "df8082d3-e5a6-417f-a0da-840619a828a1"
      },
      "source": [
        "np.mat([[1,2],[5,6]])"
      ],
      "execution_count": null,
      "outputs": [
        {
          "output_type": "execute_result",
          "data": {
            "text/plain": [
              "matrix([[1, 2],\n",
              "        [5, 6]])"
            ]
          },
          "metadata": {
            "tags": []
          },
          "execution_count": 25
        }
      ]
    },
    {
      "cell_type": "code",
      "metadata": {
        "colab": {
          "base_uri": "https://localhost:8080/"
        },
        "id": "dXp5mtmY77nj",
        "outputId": "dcae4d77-b961-4913-ffa2-010c6482f46d"
      },
      "source": [
        "np.mat([[1,2],[5,6,7]])"
      ],
      "execution_count": null,
      "outputs": [
        {
          "output_type": "execute_result",
          "data": {
            "text/plain": [
              "matrix([[list([1, 2]), list([5, 6, 7])]], dtype=object)"
            ]
          },
          "metadata": {
            "tags": []
          },
          "execution_count": 5
        }
      ]
    },
    {
      "cell_type": "markdown",
      "metadata": {
        "id": "6M3JYhUUQekp"
      },
      "source": [
        "**numpy.asarray**"
      ]
    },
    {
      "cell_type": "code",
      "metadata": {
        "id": "rK09fEM877p3"
      },
      "source": [
        "#convert a list into array"
      ],
      "execution_count": null,
      "outputs": []
    },
    {
      "cell_type": "code",
      "metadata": {
        "id": "82pTSrJU77tA",
        "colab": {
          "base_uri": "https://localhost:8080/"
        },
        "outputId": "5187319d-f296-4fa7-93be-64ef30f09f4b"
      },
      "source": [
        "a=[1,2]\n",
        "type(a)\n",
        "np.asarray(a)"
      ],
      "execution_count": null,
      "outputs": [
        {
          "output_type": "execute_result",
          "data": {
            "text/plain": [
              "array([1, 2])"
            ]
          },
          "metadata": {
            "tags": []
          },
          "execution_count": 7
        }
      ]
    },
    {
      "cell_type": "code",
      "metadata": {
        "id": "ei8s1Nsb77wb",
        "colab": {
          "base_uri": "https://localhost:8080/"
        },
        "outputId": "887154fa-2c69-4d76-894b-c35b82021bd2"
      },
      "source": [
        "a=[[1,2],[6,7]]\n",
        "type(a)\n",
        "np.asarray(a)"
      ],
      "execution_count": null,
      "outputs": [
        {
          "output_type": "execute_result",
          "data": {
            "text/plain": [
              "array([[1, 2],\n",
              "       [6, 7]])"
            ]
          },
          "metadata": {
            "tags": []
          },
          "execution_count": 8
        }
      ]
    },
    {
      "cell_type": "code",
      "metadata": {
        "colab": {
          "base_uri": "https://localhost:8080/"
        },
        "id": "zGAGzUNcQ7BT",
        "outputId": "533198e8-0bab-4a72-82ba-7151465e1fe7"
      },
      "source": [
        "a=np.array([1,2],dtype=np.float32)\n",
        "a"
      ],
      "execution_count": null,
      "outputs": [
        {
          "output_type": "execute_result",
          "data": {
            "text/plain": [
              "array([1., 2.], dtype=float32)"
            ]
          },
          "metadata": {
            "tags": []
          },
          "execution_count": 9
        }
      ]
    },
    {
      "cell_type": "code",
      "metadata": {
        "colab": {
          "base_uri": "https://localhost:8080/"
        },
        "id": "sWNLA2S2Q7EH",
        "outputId": "968447fa-74f7-4a10-8250-c09cd7d7ac27"
      },
      "source": [
        "np.asarray([1,2]) is a\n",
        "\n",
        "#a is floating value"
      ],
      "execution_count": null,
      "outputs": [
        {
          "output_type": "execute_result",
          "data": {
            "text/plain": [
              "False"
            ]
          },
          "metadata": {
            "tags": []
          },
          "execution_count": 10
        }
      ]
    },
    {
      "cell_type": "code",
      "metadata": {
        "colab": {
          "base_uri": "https://localhost:8080/"
        },
        "id": "q66CnKYxQ7Gl",
        "outputId": "7a0f6c6a-9fdb-4d35-8a8d-cca7455e0a3c"
      },
      "source": [
        "#Matrx is a subclass of array\n",
        "\n",
        "issubclass(np.matrix,np.ndarray)"
      ],
      "execution_count": null,
      "outputs": [
        {
          "output_type": "execute_result",
          "data": {
            "text/plain": [
              "True"
            ]
          },
          "metadata": {
            "tags": []
          },
          "execution_count": 11
        }
      ]
    },
    {
      "cell_type": "code",
      "metadata": {
        "colab": {
          "base_uri": "https://localhost:8080/"
        },
        "id": "BhxxlV8KQ7Iu",
        "outputId": "844030a8-186e-48a8-defa-102d7f5f0695"
      },
      "source": [
        "issubclass(np.ndarray,np.matrix)"
      ],
      "execution_count": null,
      "outputs": [
        {
          "output_type": "execute_result",
          "data": {
            "text/plain": [
              "False"
            ]
          },
          "metadata": {
            "tags": []
          },
          "execution_count": 12
        }
      ]
    },
    {
      "cell_type": "markdown",
      "metadata": {
        "id": "GEu971LkSQiV"
      },
      "source": [
        "**numpy.asanyarray**"
      ]
    },
    {
      "cell_type": "code",
      "metadata": {
        "colab": {
          "base_uri": "https://localhost:8080/"
        },
        "id": "SCmhFz0HQ7MJ",
        "outputId": "0cbd4bb2-1d46-46f7-e1ac-d22476813262"
      },
      "source": [
        "a=[1,2]\n",
        "np.asanyarray(a)\n",
        "\n",
        "#asanyarray will convert any dataset to array.\n",
        "#List is not a subclass of array. Hence np.asanyarray converted it to array.\n"
      ],
      "execution_count": null,
      "outputs": [
        {
          "output_type": "execute_result",
          "data": {
            "text/plain": [
              "array([1, 2])"
            ]
          },
          "metadata": {
            "tags": []
          },
          "execution_count": 13
        }
      ]
    },
    {
      "cell_type": "code",
      "metadata": {
        "colab": {
          "base_uri": "https://localhost:8080/"
        },
        "id": "1zgmdbZ7ST99",
        "outputId": "4e94788d-d81b-4d89-94a4-db94111a78e7"
      },
      "source": [
        "type(np.asanyarray(a))"
      ],
      "execution_count": null,
      "outputs": [
        {
          "output_type": "execute_result",
          "data": {
            "text/plain": [
              "numpy.ndarray"
            ]
          },
          "metadata": {
            "tags": []
          },
          "execution_count": 14
        }
      ]
    },
    {
      "cell_type": "code",
      "metadata": {
        "colab": {
          "base_uri": "https://localhost:8080/"
        },
        "id": "VFRmJ5OwSUBi",
        "outputId": "a42b08d9-85b0-4c95-bd3b-dbdc2894757e"
      },
      "source": [
        "a=np.matrix([1,2])\n",
        "a"
      ],
      "execution_count": null,
      "outputs": [
        {
          "output_type": "execute_result",
          "data": {
            "text/plain": [
              "matrix([[1, 2]])"
            ]
          },
          "metadata": {
            "tags": []
          },
          "execution_count": 15
        }
      ]
    },
    {
      "cell_type": "code",
      "metadata": {
        "colab": {
          "base_uri": "https://localhost:8080/"
        },
        "id": "PatgQotLSUDP",
        "outputId": "7d58204b-1112-43fa-8c19-326b7e4cbe90"
      },
      "source": [
        "np.asanyarray(a)\n",
        "#matrix is a subclass of array.Hence np.asanyarray doesnt make any change."
      ],
      "execution_count": null,
      "outputs": [
        {
          "output_type": "execute_result",
          "data": {
            "text/plain": [
              "matrix([[1, 2]])"
            ]
          },
          "metadata": {
            "tags": []
          },
          "execution_count": 16
        }
      ]
    },
    {
      "cell_type": "code",
      "metadata": {
        "colab": {
          "base_uri": "https://localhost:8080/"
        },
        "id": "ofxEMBI2SUFS",
        "outputId": "5d087ba1-8d2b-4b81-8e92-1cc0dc2d40bb"
      },
      "source": [
        "#array and asarray will convert matrix to array\n",
        "\n",
        "np.array(a)"
      ],
      "execution_count": null,
      "outputs": [
        {
          "output_type": "execute_result",
          "data": {
            "text/plain": [
              "array([[1, 2]])"
            ]
          },
          "metadata": {
            "tags": []
          },
          "execution_count": 17
        }
      ]
    },
    {
      "cell_type": "code",
      "metadata": {
        "colab": {
          "base_uri": "https://localhost:8080/"
        },
        "id": "uJv4rCjOSUI7",
        "outputId": "f7ed1034-0f7d-43a1-fc7c-64f5b964ad2e"
      },
      "source": [
        "np.asarray(a)"
      ],
      "execution_count": null,
      "outputs": [
        {
          "output_type": "execute_result",
          "data": {
            "text/plain": [
              "array([[1, 2]])"
            ]
          },
          "metadata": {
            "tags": []
          },
          "execution_count": 18
        }
      ]
    },
    {
      "cell_type": "code",
      "metadata": {
        "colab": {
          "base_uri": "https://localhost:8080/"
        },
        "id": "tw56qKcZTYe8",
        "outputId": "55bd6cd8-3a44-42b9-fabc-4666d5f3ff22"
      },
      "source": [
        "#asanyarray wont convert matrix to array\n",
        "\n",
        "np.asanyarray(a)"
      ],
      "execution_count": null,
      "outputs": [
        {
          "output_type": "execute_result",
          "data": {
            "text/plain": [
              "matrix([[1, 2]])"
            ]
          },
          "metadata": {
            "tags": []
          },
          "execution_count": 19
        }
      ]
    },
    {
      "cell_type": "markdown",
      "metadata": {
        "id": "4HNUeihsVnO3"
      },
      "source": [
        "**numpy.copy**"
      ]
    },
    {
      "cell_type": "code",
      "metadata": {
        "colab": {
          "base_uri": "https://localhost:8080/"
        },
        "id": "pHxyMLTRTYim",
        "outputId": "82d69c36-45ca-4c90-e347-0ee31a97340d"
      },
      "source": [
        "np.array(a,copy=True)"
      ],
      "execution_count": null,
      "outputs": [
        {
          "output_type": "execute_result",
          "data": {
            "text/plain": [
              "array([[1, 2]])"
            ]
          },
          "metadata": {
            "tags": []
          },
          "execution_count": 20
        }
      ]
    },
    {
      "cell_type": "code",
      "metadata": {
        "colab": {
          "base_uri": "https://localhost:8080/"
        },
        "id": "pB4PPAp8Vkos",
        "outputId": "0c5a0e17-2a4f-4b50-e0b0-b3f1ae55dee2"
      },
      "source": [
        "#create an array x, with a reference y and a copy z\n",
        "\n",
        "x=np.array([1,2,3])\n",
        "x"
      ],
      "execution_count": null,
      "outputs": [
        {
          "output_type": "execute_result",
          "data": {
            "text/plain": [
              "array([1, 2, 3])"
            ]
          },
          "metadata": {
            "tags": []
          },
          "execution_count": 6
        }
      ]
    },
    {
      "cell_type": "code",
      "metadata": {
        "id": "zBFGlPSHWLUS"
      },
      "source": [
        "y=x"
      ],
      "execution_count": null,
      "outputs": []
    },
    {
      "cell_type": "code",
      "metadata": {
        "colab": {
          "base_uri": "https://localhost:8080/"
        },
        "id": "oBqPSJm0WLW2",
        "outputId": "46468669-0675-4e97-ae22-60812cd8786e"
      },
      "source": [
        "z=np.copy(x)\n",
        "z"
      ],
      "execution_count": null,
      "outputs": [
        {
          "output_type": "execute_result",
          "data": {
            "text/plain": [
              "array([1, 2, 3])"
            ]
          },
          "metadata": {
            "tags": []
          },
          "execution_count": 8
        }
      ]
    },
    {
      "cell_type": "code",
      "metadata": {
        "colab": {
          "base_uri": "https://localhost:8080/"
        },
        "id": "bhk839uYWLZR",
        "outputId": "f009330c-bbc7-41eb-b7a0-df2d5e6ba205"
      },
      "source": [
        "y[0]=100\n",
        "y"
      ],
      "execution_count": null,
      "outputs": [
        {
          "output_type": "execute_result",
          "data": {
            "text/plain": [
              "array([100,   2,   3])"
            ]
          },
          "metadata": {
            "tags": []
          },
          "execution_count": 9
        }
      ]
    },
    {
      "cell_type": "code",
      "metadata": {
        "colab": {
          "base_uri": "https://localhost:8080/"
        },
        "id": "Z8XVhX2JWLcP",
        "outputId": "c1da2ff9-baee-45b9-862d-ba7d0f1d2797"
      },
      "source": [
        "x\n",
        "\n",
        "#we observe that if we change any value of y , value of x will also get changed. As y=x."
      ],
      "execution_count": null,
      "outputs": [
        {
          "output_type": "execute_result",
          "data": {
            "text/plain": [
              "array([100,   2,   3])"
            ]
          },
          "metadata": {
            "tags": []
          },
          "execution_count": 10
        }
      ]
    },
    {
      "cell_type": "code",
      "metadata": {
        "colab": {
          "base_uri": "https://localhost:8080/"
        },
        "id": "xKGjoPcPWhiq",
        "outputId": "3d81fc42-7e0e-4d4e-9145-0196d960c2a5"
      },
      "source": [
        "print(id(x))\n",
        "print(id(y))\n",
        "\n",
        "#both are pointing to same location"
      ],
      "execution_count": null,
      "outputs": [
        {
          "output_type": "stream",
          "text": [
            "140072336056448\n",
            "140072336056448\n"
          ],
          "name": "stdout"
        }
      ]
    },
    {
      "cell_type": "code",
      "metadata": {
        "colab": {
          "base_uri": "https://localhost:8080/"
        },
        "id": "ZTR3rD6xWhk9",
        "outputId": "3a59d2ee-18d1-4a40-f5d7-35ff2651f4a2"
      },
      "source": [
        "z=np.copy(x)\n",
        "z"
      ],
      "execution_count": null,
      "outputs": [
        {
          "output_type": "execute_result",
          "data": {
            "text/plain": [
              "array([100,   2,   3])"
            ]
          },
          "metadata": {
            "tags": []
          },
          "execution_count": 11
        }
      ]
    },
    {
      "cell_type": "code",
      "metadata": {
        "colab": {
          "base_uri": "https://localhost:8080/"
        },
        "id": "YBAiwTFhWhnp",
        "outputId": "49894361-c02d-4bdd-b9e8-5c0e88da68f9"
      },
      "source": [
        "z[1]=2345\n",
        "z"
      ],
      "execution_count": null,
      "outputs": [
        {
          "output_type": "execute_result",
          "data": {
            "text/plain": [
              "array([ 100, 2345,    3])"
            ]
          },
          "metadata": {
            "tags": []
          },
          "execution_count": 12
        }
      ]
    },
    {
      "cell_type": "code",
      "metadata": {
        "colab": {
          "base_uri": "https://localhost:8080/"
        },
        "id": "TmuZB04GWhqC",
        "outputId": "525ade91-4b76-4e29-aa7a-6b308636a912"
      },
      "source": [
        "x"
      ],
      "execution_count": null,
      "outputs": [
        {
          "output_type": "execute_result",
          "data": {
            "text/plain": [
              "array([100,   2,   3])"
            ]
          },
          "metadata": {
            "tags": []
          },
          "execution_count": 13
        }
      ]
    },
    {
      "cell_type": "markdown",
      "metadata": {
        "id": "BQZnoHB4_M9u"
      },
      "source": [
        "**numpy.fromfunction**"
      ]
    },
    {
      "cell_type": "code",
      "metadata": {
        "id": "fh15_I-XsmAo",
        "colab": {
          "base_uri": "https://localhost:8080/"
        },
        "outputId": "700dfcb9-4313-45ca-96ce-d65fcece6d04"
      },
      "source": [
        "#construct an array by executing a function over each coordinate\n",
        "\n",
        "np.fromfunction(lambda i,j:i==j,(3,3),dtype=int)"
      ],
      "execution_count": null,
      "outputs": [
        {
          "output_type": "execute_result",
          "data": {
            "text/plain": [
              "array([[ True, False, False],\n",
              "       [False,  True, False],\n",
              "       [False, False,  True]])"
            ]
          },
          "metadata": {
            "tags": []
          },
          "execution_count": 6
        }
      ]
    },
    {
      "cell_type": "code",
      "metadata": {
        "id": "YRX5fbLqsmDz",
        "colab": {
          "base_uri": "https://localhost:8080/"
        },
        "outputId": "1b50e56d-296a-4ac6-b8fc-98c60b94bbfe"
      },
      "source": [
        "np.fromfunction(lambda i,j:i*j,(3,3),dtype=int)"
      ],
      "execution_count": null,
      "outputs": [
        {
          "output_type": "execute_result",
          "data": {
            "text/plain": [
              "array([[0, 0, 0],\n",
              "       [0, 1, 2],\n",
              "       [0, 2, 4]])"
            ]
          },
          "metadata": {
            "tags": []
          },
          "execution_count": 7
        }
      ]
    },
    {
      "cell_type": "code",
      "metadata": {
        "colab": {
          "base_uri": "https://localhost:8080/"
        },
        "id": "AB-rYukPOkMs",
        "outputId": "019944ac-d6d0-43ac-ca80-48153ffa66ec"
      },
      "source": [
        "#3D array\n",
        "\n",
        "np.fromfunction(lambda i,j,k: i*j*k,(3,3,3),dtype=int)"
      ],
      "execution_count": null,
      "outputs": [
        {
          "output_type": "execute_result",
          "data": {
            "text/plain": [
              "array([[[0, 0, 0],\n",
              "        [0, 0, 0],\n",
              "        [0, 0, 0]],\n",
              "\n",
              "       [[0, 0, 0],\n",
              "        [0, 1, 2],\n",
              "        [0, 2, 4]],\n",
              "\n",
              "       [[0, 0, 0],\n",
              "        [0, 2, 4],\n",
              "        [0, 4, 8]]])"
            ]
          },
          "metadata": {
            "tags": []
          },
          "execution_count": 10
        }
      ]
    },
    {
      "cell_type": "code",
      "metadata": {
        "colab": {
          "base_uri": "https://localhost:8080/"
        },
        "id": "du8DnZyEQvIS",
        "outputId": "1e3bac0e-4f81-4bfe-fa06-03703fc89c51"
      },
      "source": [
        "np.fromfunction(lambda i,j,k,m: i*j*k*m,(3,3,3,3),dtype=int)"
      ],
      "execution_count": null,
      "outputs": [
        {
          "output_type": "execute_result",
          "data": {
            "text/plain": [
              "array([[[[ 0,  0,  0],\n",
              "         [ 0,  0,  0],\n",
              "         [ 0,  0,  0]],\n",
              "\n",
              "        [[ 0,  0,  0],\n",
              "         [ 0,  0,  0],\n",
              "         [ 0,  0,  0]],\n",
              "\n",
              "        [[ 0,  0,  0],\n",
              "         [ 0,  0,  0],\n",
              "         [ 0,  0,  0]]],\n",
              "\n",
              "\n",
              "       [[[ 0,  0,  0],\n",
              "         [ 0,  0,  0],\n",
              "         [ 0,  0,  0]],\n",
              "\n",
              "        [[ 0,  0,  0],\n",
              "         [ 0,  1,  2],\n",
              "         [ 0,  2,  4]],\n",
              "\n",
              "        [[ 0,  0,  0],\n",
              "         [ 0,  2,  4],\n",
              "         [ 0,  4,  8]]],\n",
              "\n",
              "\n",
              "       [[[ 0,  0,  0],\n",
              "         [ 0,  0,  0],\n",
              "         [ 0,  0,  0]],\n",
              "\n",
              "        [[ 0,  0,  0],\n",
              "         [ 0,  2,  4],\n",
              "         [ 0,  4,  8]],\n",
              "\n",
              "        [[ 0,  0,  0],\n",
              "         [ 0,  4,  8],\n",
              "         [ 0,  8, 16]]]])"
            ]
          },
          "metadata": {
            "tags": []
          },
          "execution_count": 16
        }
      ]
    },
    {
      "cell_type": "code",
      "metadata": {
        "id": "KLU3B_O4smGb",
        "colab": {
          "base_uri": "https://localhost:8080/"
        },
        "outputId": "b348212c-4116-4bc1-c0db-500e00d7a020"
      },
      "source": [
        "#create a 1D array from an iterable object\n",
        "\n",
        "iterable=(x*x for x in range(5))\n",
        "iterable"
      ],
      "execution_count": null,
      "outputs": [
        {
          "output_type": "execute_result",
          "data": {
            "text/plain": [
              "<generator object <genexpr> at 0x7f5d70258bd0>"
            ]
          },
          "metadata": {
            "tags": []
          },
          "execution_count": 9
        }
      ]
    },
    {
      "cell_type": "code",
      "metadata": {
        "id": "Q_wn8460smJf",
        "colab": {
          "base_uri": "https://localhost:8080/"
        },
        "outputId": "60f99df3-96bd-4e99-ef53-ff4dd9e31b19"
      },
      "source": [
        "np.fromiter(iterable,float)"
      ],
      "execution_count": null,
      "outputs": [
        {
          "output_type": "execute_result",
          "data": {
            "text/plain": [
              "array([ 0.,  1.,  4.,  9., 16.])"
            ]
          },
          "metadata": {
            "tags": []
          },
          "execution_count": 17
        }
      ]
    },
    {
      "cell_type": "code",
      "metadata": {
        "id": "97TXwFQ3smLs",
        "colab": {
          "base_uri": "https://localhost:8080/"
        },
        "outputId": "0690240e-5571-4456-b8bd-6f3b07613f3d"
      },
      "source": [
        "#A new 1-D array initialized from text data in a string\n",
        "\n",
        "a=np.fromstring('245 245',sep=' ')\n",
        "a"
      ],
      "execution_count": null,
      "outputs": [
        {
          "output_type": "execute_result",
          "data": {
            "text/plain": [
              "array([245., 245.])"
            ]
          },
          "metadata": {
            "tags": []
          },
          "execution_count": 20
        }
      ]
    },
    {
      "cell_type": "code",
      "metadata": {
        "colab": {
          "base_uri": "https://localhost:8080/"
        },
        "id": "rJ5ka9VxT459",
        "outputId": "ed2650ec-7bf2-4c8b-ec63-f7a0fa2ba688"
      },
      "source": [
        "np.fromstring('1,2',dtype=int,sep=',')"
      ],
      "execution_count": null,
      "outputs": [
        {
          "output_type": "execute_result",
          "data": {
            "text/plain": [
              "array([1, 2])"
            ]
          },
          "metadata": {
            "tags": []
          },
          "execution_count": 22
        }
      ]
    },
    {
      "cell_type": "code",
      "metadata": {
        "id": "y0aPfO3HT48T"
      },
      "source": [
        "#how to create a record array from a (float) list of arrays\n",
        "\n",
        "x1=np.array([1,2,3,4])\n",
        "x2=np.array(['a','dd','xyz','12'])"
      ],
      "execution_count": null,
      "outputs": []
    },
    {
      "cell_type": "code",
      "metadata": {
        "colab": {
          "base_uri": "https://localhost:8080/"
        },
        "id": "Z_lOm6i6T4-x",
        "outputId": "0b9c4c8a-5db0-4730-e074-e410219c16c1"
      },
      "source": [
        "x3=np.array([1.1,2,3,4])\n",
        "x4=np.array([1.1,2,3,4])\n",
        "type(x4)"
      ],
      "execution_count": null,
      "outputs": [
        {
          "output_type": "execute_result",
          "data": {
            "text/plain": [
              "numpy.ndarray"
            ]
          },
          "metadata": {
            "tags": []
          },
          "execution_count": 4
        }
      ]
    },
    {
      "cell_type": "code",
      "metadata": {
        "id": "DC0QHOtAVLac",
        "colab": {
          "base_uri": "https://localhost:8080/"
        },
        "outputId": "4449d4e4-a541-4f89-8728-6db5544de4fb"
      },
      "source": [
        "r=np.core.records.fromarrays([x1,x2,x3,x4],names='a,b,c,d')\n",
        "r"
      ],
      "execution_count": null,
      "outputs": [
        {
          "output_type": "execute_result",
          "data": {
            "text/plain": [
              "rec.array([(1, 'a', 1.1, 1.1), (2, 'dd', 2. , 2. ), (3, 'xyz', 3. , 3. ),\n",
              "           (4, '12', 4. , 4. )],\n",
              "          dtype=[('a', '<i8'), ('b', '<U3'), ('c', '<f8'), ('d', '<f8')])"
            ]
          },
          "metadata": {
            "tags": []
          },
          "execution_count": 5
        }
      ]
    },
    {
      "cell_type": "markdown",
      "metadata": {
        "id": "_4VYIGwDq7FS"
      },
      "source": [
        "**data types**"
      ]
    },
    {
      "cell_type": "code",
      "metadata": {
        "id": "5HTPpA9VVLc4",
        "colab": {
          "base_uri": "https://localhost:8080/"
        },
        "outputId": "ff6aea1a-892d-4e1f-8022-c6c0d4ca7990"
      },
      "source": [
        "my_list=[1,2,3]\n",
        "arr=np.array(my_list)\n",
        "print(\"Type/class of this array\",type(arr))\n",
        "print(\"Here is the vector\\n-------------------\\n\",arr)"
      ],
      "execution_count": null,
      "outputs": [
        {
          "output_type": "stream",
          "text": [
            "Type/class of this array <class 'numpy.ndarray'>\n",
            "Here is the vector\n",
            "-------------------\n",
            " [1 2 3]\n"
          ],
          "name": "stdout"
        }
      ]
    },
    {
      "cell_type": "code",
      "metadata": {
        "id": "fagOkwOfVLfj",
        "colab": {
          "base_uri": "https://localhost:8080/"
        },
        "outputId": "441680df-8f55-4c2e-f989-2395a4f0a14a"
      },
      "source": [
        "my_mat=[[1,2,3],[4,5,6],[7,8,9]]\n",
        "mat=np.array(my_mat)\n",
        "print('Type/class of matrix:',type(mat))\n",
        "print('Here is the matrix\\n----------\\n',mat,'\\n----------\\n')\n",
        "print('Dimension of matrix:',mat.ndim,sep='')\n",
        "print('Size of matrix:',mat.size,sep='')\n",
        "print('Shape of matrix:',mat.shape,sep='')\n",
        "print('Data type of matrix:',mat.dtype,sep='')"
      ],
      "execution_count": null,
      "outputs": [
        {
          "output_type": "stream",
          "text": [
            "Type/class of matrix: <class 'numpy.ndarray'>\n",
            "Here is the matrix\n",
            "----------\n",
            " [[1 2 3]\n",
            " [4 5 6]\n",
            " [7 8 9]] \n",
            "----------\n",
            "\n",
            "Dimension of matrix:2\n",
            "Size of matrix:9\n",
            "Shape of matrix:(3, 3)\n",
            "Data type of matrix:int64\n"
          ],
          "name": "stdout"
        }
      ]
    },
    {
      "cell_type": "code",
      "metadata": {
        "id": "F2tDeK6HVLh5",
        "colab": {
          "base_uri": "https://localhost:8080/"
        },
        "outputId": "2641a5aa-1fa3-47f0-c6ba-992d2fac90c4"
      },
      "source": [
        "my_mat=[[1.1,2,3],[4,5.2,6],[7,8.3,9]]\n",
        "mat=np.array(my_mat)\n",
        "print('Data type of matrix:',mat.dtype,sep='')"
      ],
      "execution_count": null,
      "outputs": [
        {
          "output_type": "stream",
          "text": [
            "Data type of matrix:float64\n"
          ],
          "name": "stdout"
        }
      ]
    },
    {
      "cell_type": "code",
      "metadata": {
        "id": "KTluyEo1VLlh",
        "colab": {
          "base_uri": "https://localhost:8080/"
        },
        "outputId": "c47d79a2-bc8f-4f35-f849-882ddf07f875"
      },
      "source": [
        "print('Even tuples can be converted into ndarray\\n-------------------------------------------\\n')\n",
        "b=np.array([(1.1,2,3),(4,5,6)])\n",
        "print(type(b))\n",
        "print(b)"
      ],
      "execution_count": null,
      "outputs": [
        {
          "output_type": "stream",
          "text": [
            "Even tuples can be converted into ndarray\n",
            "-------------------------------------------\n",
            "\n",
            "<class 'numpy.ndarray'>\n",
            "[[1.1 2.  3. ]\n",
            " [4.  5.  6. ]]\n"
          ],
          "name": "stdout"
        }
      ]
    },
    {
      "cell_type": "markdown",
      "metadata": {
        "id": "zpp90OAW9N84"
      },
      "source": [
        "**arange and linspace**"
      ]
    },
    {
      "cell_type": "code",
      "metadata": {
        "id": "lswECfpoT5EW",
        "colab": {
          "base_uri": "https://localhost:8080/"
        },
        "outputId": "593129a7-f774-41a5-8114-bcdea8194d51"
      },
      "source": [
        "list(range(4,7))"
      ],
      "execution_count": null,
      "outputs": [
        {
          "output_type": "execute_result",
          "data": {
            "text/plain": [
              "[4, 5, 6]"
            ]
          },
          "metadata": {
            "tags": []
          },
          "execution_count": 23
        }
      ]
    },
    {
      "cell_type": "code",
      "metadata": {
        "colab": {
          "base_uri": "https://localhost:8080/"
        },
        "id": "olrdKPCe8jua",
        "outputId": "36525102-2ba0-4827-8dc3-bf428ab16f60"
      },
      "source": [
        "list(range(4,20,2))\n",
        "\n",
        "#we cannot use floating point number in case of range function. Range function always consider an integer data type."
      ],
      "execution_count": null,
      "outputs": [
        {
          "output_type": "execute_result",
          "data": {
            "text/plain": [
              "[4, 6, 8, 10, 12, 14, 16, 18]"
            ]
          },
          "metadata": {
            "tags": []
          },
          "execution_count": 24
        }
      ]
    },
    {
      "cell_type": "code",
      "metadata": {
        "colab": {
          "base_uri": "https://localhost:8080/"
        },
        "id": "nQQok-Fy8jyZ",
        "outputId": "54473540-2040-4bd4-f4b1-0136872aaddd"
      },
      "source": [
        "#python doesn't have arange function but numpy has. hence we use np.arange()\n",
        "\n",
        "np.arange(4,30,2.8)"
      ],
      "execution_count": null,
      "outputs": [
        {
          "output_type": "execute_result",
          "data": {
            "text/plain": [
              "array([ 4. ,  6.8,  9.6, 12.4, 15.2, 18. , 20.8, 23.6, 26.4, 29.2])"
            ]
          },
          "metadata": {
            "tags": []
          },
          "execution_count": 25
        }
      ]
    },
    {
      "cell_type": "code",
      "metadata": {
        "colab": {
          "base_uri": "https://localhost:8080/"
        },
        "id": "HvwWe-WE8j05",
        "outputId": "aac38c40-9377-4026-b0c7-bf880c4ff54f"
      },
      "source": [
        "np.arange(2.3,8.4,1.5)"
      ],
      "execution_count": null,
      "outputs": [
        {
          "output_type": "execute_result",
          "data": {
            "text/plain": [
              "array([2.3, 3.8, 5.3, 6.8, 8.3])"
            ]
          },
          "metadata": {
            "tags": []
          },
          "execution_count": 26
        }
      ]
    },
    {
      "cell_type": "code",
      "metadata": {
        "colab": {
          "base_uri": "https://localhost:8080/"
        },
        "id": "Y2veW1V8_lHS",
        "outputId": "60e4622d-b0d3-41c9-9af7-b35d817cc143"
      },
      "source": [
        "np.arange(16,0,-2)"
      ],
      "execution_count": null,
      "outputs": [
        {
          "output_type": "execute_result",
          "data": {
            "text/plain": [
              "array([16, 14, 12, 10,  8,  6,  4,  2])"
            ]
          },
          "metadata": {
            "tags": []
          },
          "execution_count": 27
        }
      ]
    },
    {
      "cell_type": "code",
      "metadata": {
        "colab": {
          "base_uri": "https://localhost:8080/"
        },
        "id": "CiqCPL9J_lLl",
        "outputId": "1ef261dc-afc7-4f05-d23e-8aa885e56344"
      },
      "source": [
        "print('A series of numbers:',type(np.arange(5,16)))\n",
        "np.arange(5,16,2.3) #A series of numbers from low to high"
      ],
      "execution_count": null,
      "outputs": [
        {
          "output_type": "stream",
          "text": [
            "A series of numbers: <class 'numpy.ndarray'>\n"
          ],
          "name": "stdout"
        },
        {
          "output_type": "execute_result",
          "data": {
            "text/plain": [
              "array([ 5. ,  7.3,  9.6, 11.9, 14.2])"
            ]
          },
          "metadata": {
            "tags": []
          },
          "execution_count": 30
        }
      ]
    },
    {
      "cell_type": "code",
      "metadata": {
        "colab": {
          "base_uri": "https://localhost:8080/"
        },
        "id": "aOHMDVYxBZ2h",
        "outputId": "33afe680-8117-4ca2-85db-48f91bb2da68"
      },
      "source": [
        "list(range(50,-1,5))"
      ],
      "execution_count": null,
      "outputs": [
        {
          "output_type": "execute_result",
          "data": {
            "text/plain": [
              "[]"
            ]
          },
          "metadata": {
            "tags": []
          },
          "execution_count": 33
        }
      ]
    },
    {
      "cell_type": "code",
      "metadata": {
        "colab": {
          "base_uri": "https://localhost:8080/"
        },
        "id": "rYBHyJ1MBZ40",
        "outputId": "eb345321-0685-4033-f2fc-5138388a28ff"
      },
      "source": [
        "print('Numbers spaced apart by 2:',np.arange(50,-1,5))"
      ],
      "execution_count": null,
      "outputs": [
        {
          "output_type": "stream",
          "text": [
            "Numbers spaced apart by 2: []\n"
          ],
          "name": "stdout"
        }
      ]
    },
    {
      "cell_type": "code",
      "metadata": {
        "colab": {
          "base_uri": "https://localhost:8080/"
        },
        "id": "0bfuns81BZ7o",
        "outputId": "cca00e20-cfcb-45a7-d60b-545020f8a25d"
      },
      "source": [
        "print('Number spaced apart by float:',np.arange(0,11,2.5))"
      ],
      "execution_count": null,
      "outputs": [
        {
          "output_type": "stream",
          "text": [
            "Number spaced apart by float: [ 0.   2.5  5.   7.5 10. ]\n"
          ],
          "name": "stdout"
        }
      ]
    },
    {
      "cell_type": "code",
      "metadata": {
        "colab": {
          "base_uri": "https://localhost:8080/"
        },
        "id": "_mJKRHDdBZ9x",
        "outputId": "960b01bf-3861-4f96-cc03-aa574b46a9c8"
      },
      "source": [
        "print('Every 5th number from 50 in reverse order\\n',np.arange(5.0,-1,-5))"
      ],
      "execution_count": null,
      "outputs": [
        {
          "output_type": "stream",
          "text": [
            "Every 5th number from 50 in reverse order\n",
            " [5. 0.]\n"
          ],
          "name": "stdout"
        }
      ]
    },
    {
      "cell_type": "code",
      "metadata": {
        "colab": {
          "base_uri": "https://localhost:8080/"
        },
        "id": "9m9iraZ_BaAq",
        "outputId": "88b95718-413c-4da8-c1a4-8afa78aaacd3"
      },
      "source": [
        "print('linearly spaced number between 1 and 50\\n-------------------------------------------')\n",
        "print(np.linspace(1,5,50))\n",
        "\n",
        "#1--starting point, 5----end point, 50-----total numbers to be generated"
      ],
      "execution_count": null,
      "outputs": [
        {
          "output_type": "stream",
          "text": [
            "linearly spaced number between 1 and 50\n",
            "-------------------------------------------\n",
            "[1.         1.08163265 1.16326531 1.24489796 1.32653061 1.40816327\n",
            " 1.48979592 1.57142857 1.65306122 1.73469388 1.81632653 1.89795918\n",
            " 1.97959184 2.06122449 2.14285714 2.2244898  2.30612245 2.3877551\n",
            " 2.46938776 2.55102041 2.63265306 2.71428571 2.79591837 2.87755102\n",
            " 2.95918367 3.04081633 3.12244898 3.20408163 3.28571429 3.36734694\n",
            " 3.44897959 3.53061224 3.6122449  3.69387755 3.7755102  3.85714286\n",
            " 3.93877551 4.02040816 4.10204082 4.18367347 4.26530612 4.34693878\n",
            " 4.42857143 4.51020408 4.59183673 4.67346939 4.75510204 4.83673469\n",
            " 4.91836735 5.        ]\n"
          ],
          "name": "stdout"
        }
      ]
    },
    {
      "cell_type": "code",
      "metadata": {
        "id": "XQtICo9TCuRH",
        "colab": {
          "base_uri": "https://localhost:8080/"
        },
        "outputId": "7d9c42ba-7128-4680-d8c1-7c32f3c3b1b7"
      },
      "source": [
        "np.linspace(1,5,10,endpoint=True)"
      ],
      "execution_count": null,
      "outputs": [
        {
          "output_type": "execute_result",
          "data": {
            "text/plain": [
              "array([1.        , 1.44444444, 1.88888889, 2.33333333, 2.77777778,\n",
              "       3.22222222, 3.66666667, 4.11111111, 4.55555556, 5.        ])"
            ]
          },
          "metadata": {
            "tags": []
          },
          "execution_count": 46
        }
      ]
    },
    {
      "cell_type": "code",
      "metadata": {
        "id": "28pqJPtKCuTx",
        "colab": {
          "base_uri": "https://localhost:8080/"
        },
        "outputId": "80b87d38-3529-4e63-e2e4-17e9dd5237f6"
      },
      "source": [
        "np.linspace(1,5,10,endpoint=False)"
      ],
      "execution_count": null,
      "outputs": [
        {
          "output_type": "execute_result",
          "data": {
            "text/plain": [
              "array([1. , 1.4, 1.8, 2.2, 2.6, 3. , 3.4, 3.8, 4.2, 4.6])"
            ]
          },
          "metadata": {
            "tags": []
          },
          "execution_count": 47
        }
      ]
    },
    {
      "cell_type": "code",
      "metadata": {
        "colab": {
          "base_uri": "https://localhost:8080/"
        },
        "id": "KByD6tTf4JZh",
        "outputId": "35f1b2fd-8011-4fbf-fc3f-f8eb7ffa1c93"
      },
      "source": [
        "np.linspace(2.0,3.0,num=10)"
      ],
      "execution_count": null,
      "outputs": [
        {
          "output_type": "execute_result",
          "data": {
            "text/plain": [
              "array([2.        , 2.11111111, 2.22222222, 2.33333333, 2.44444444,\n",
              "       2.55555556, 2.66666667, 2.77777778, 2.88888889, 3.        ])"
            ]
          },
          "metadata": {
            "tags": []
          },
          "execution_count": 70
        }
      ]
    },
    {
      "cell_type": "code",
      "metadata": {
        "colab": {
          "base_uri": "https://localhost:8080/"
        },
        "id": "b2d9IJ_p4PJz",
        "outputId": "48ca3e24-8d2f-45a6-b3b0-c62882d9fd6b"
      },
      "source": [
        "np.linspace(2.0,3.0,num=10,endpoint=False)"
      ],
      "execution_count": null,
      "outputs": [
        {
          "output_type": "execute_result",
          "data": {
            "text/plain": [
              "array([2. , 2.1, 2.2, 2.3, 2.4, 2.5, 2.6, 2.7, 2.8, 2.9])"
            ]
          },
          "metadata": {
            "tags": []
          },
          "execution_count": 71
        }
      ]
    },
    {
      "cell_type": "code",
      "metadata": {
        "colab": {
          "base_uri": "https://localhost:8080/"
        },
        "id": "vdOgQ4ag4W45",
        "outputId": "650d2834-d207-46c0-f823-b614b57e268b"
      },
      "source": [
        "np.linspace(2.0,3.0,num=5,retstep=True)"
      ],
      "execution_count": null,
      "outputs": [
        {
          "output_type": "execute_result",
          "data": {
            "text/plain": [
              "(array([2.  , 2.25, 2.5 , 2.75, 3.  ]), 0.25)"
            ]
          },
          "metadata": {
            "tags": []
          },
          "execution_count": 75
        }
      ]
    },
    {
      "cell_type": "markdown",
      "metadata": {
        "id": "i7jYWUo-4482"
      },
      "source": [
        "**Logspace**"
      ]
    },
    {
      "cell_type": "code",
      "metadata": {
        "colab": {
          "base_uri": "https://localhost:8080/"
        },
        "id": "CQXy_tfW4W8m",
        "outputId": "9245689b-f972-426b-d9de-597b6fdc3808"
      },
      "source": [
        "np.logspace(2.0,3.0,num=5,base=10)"
      ],
      "execution_count": null,
      "outputs": [
        {
          "output_type": "execute_result",
          "data": {
            "text/plain": [
              "array([ 100.        ,  177.827941  ,  316.22776602,  562.34132519,\n",
              "       1000.        ])"
            ]
          },
          "metadata": {
            "tags": []
          },
          "execution_count": 76
        }
      ]
    },
    {
      "cell_type": "code",
      "metadata": {
        "colab": {
          "base_uri": "https://localhost:8080/"
        },
        "id": "_Qx84as04-uG",
        "outputId": "adea13c6-ccbc-4055-8798-368a0feabf23"
      },
      "source": [
        "np.logspace(2.0,3.0,num=5,base=3)"
      ],
      "execution_count": null,
      "outputs": [
        {
          "output_type": "execute_result",
          "data": {
            "text/plain": [
              "array([ 9.        , 11.84466612, 15.58845727, 20.51556351, 27.        ])"
            ]
          },
          "metadata": {
            "tags": []
          },
          "execution_count": 78
        }
      ]
    },
    {
      "cell_type": "code",
      "metadata": {
        "colab": {
          "base_uri": "https://localhost:8080/"
        },
        "id": "RozoebP34-wb",
        "outputId": "7331641c-d7d2-4475-d9a9-8902d0a7c8d5"
      },
      "source": [
        "np.logspace(2.0,3.0,num=5,endpoint=False)"
      ],
      "execution_count": null,
      "outputs": [
        {
          "output_type": "execute_result",
          "data": {
            "text/plain": [
              "array([100.        , 158.48931925, 251.18864315, 398.10717055,\n",
              "       630.95734448])"
            ]
          },
          "metadata": {
            "tags": []
          },
          "execution_count": 79
        }
      ]
    },
    {
      "cell_type": "markdown",
      "metadata": {
        "id": "0Z-c7VZfzl0D"
      },
      "source": [
        "**Matrix Creation**"
      ]
    },
    {
      "cell_type": "code",
      "metadata": {
        "id": "_RWQ_NqoCuWr",
        "colab": {
          "base_uri": "https://localhost:8080/"
        },
        "outputId": "25e7580e-d70c-41d1-b6ba-b67d469e7f34"
      },
      "source": [
        "print(\"Vector of zeros\\n----------------------\\n\")\n",
        "print(np.zeros(5))"
      ],
      "execution_count": null,
      "outputs": [
        {
          "output_type": "stream",
          "text": [
            "Vector of zeros\n",
            "----------------------\n",
            "\n",
            "[0. 0. 0. 0. 0.]\n"
          ],
          "name": "stdout"
        }
      ]
    },
    {
      "cell_type": "code",
      "metadata": {
        "id": "eCt9ojmSCuaQ",
        "colab": {
          "base_uri": "https://localhost:8080/"
        },
        "outputId": "597eb74c-bc7b-4f17-fc91-be483c5db42c"
      },
      "source": [
        "print(\"Matrix of zeros\\n------------------------\")\n",
        "print(np.zeros((3,4)))    #Notice tuples"
      ],
      "execution_count": null,
      "outputs": [
        {
          "output_type": "stream",
          "text": [
            "Matrix of zeros\n",
            "------------------------\n",
            "[[0. 0. 0. 0.]\n",
            " [0. 0. 0. 0.]\n",
            " [0. 0. 0. 0.]]\n"
          ],
          "name": "stdout"
        }
      ]
    },
    {
      "cell_type": "code",
      "metadata": {
        "id": "Z--IGzmiBaEX",
        "colab": {
          "base_uri": "https://localhost:8080/"
        },
        "outputId": "bd67cedc-68d5-4329-ad5d-8ae075450dd6"
      },
      "source": [
        "print(\"Vector of ones\\n----------------\")\n",
        "print(np.ones(5))"
      ],
      "execution_count": null,
      "outputs": [
        {
          "output_type": "stream",
          "text": [
            "Vector of ones\n",
            "----------------\n",
            "[1. 1. 1. 1. 1.]\n"
          ],
          "name": "stdout"
        }
      ]
    },
    {
      "cell_type": "code",
      "metadata": {
        "id": "ktQ_0nNU_lPG",
        "colab": {
          "base_uri": "https://localhost:8080/"
        },
        "outputId": "4ce841c1-3cac-4344-9b09-4d1a42ec470d"
      },
      "source": [
        "print(\"Matrix of zeros\\n------------------\")\n",
        "print(np.zeros((3,4,2)))\n",
        "\n",
        "3D array of 4x2"
      ],
      "execution_count": null,
      "outputs": [
        {
          "output_type": "stream",
          "text": [
            "Matrix of zeros\n",
            "------------------\n",
            "[[[0. 0.]\n",
            "  [0. 0.]\n",
            "  [0. 0.]\n",
            "  [0. 0.]]\n",
            "\n",
            " [[0. 0.]\n",
            "  [0. 0.]\n",
            "  [0. 0.]\n",
            "  [0. 0.]]\n",
            "\n",
            " [[0. 0.]\n",
            "  [0. 0.]\n",
            "  [0. 0.]\n",
            "  [0. 0.]]]\n"
          ],
          "name": "stdout"
        }
      ]
    },
    {
      "cell_type": "code",
      "metadata": {
        "id": "uRCBYDF88j4u",
        "colab": {
          "base_uri": "https://localhost:8080/"
        },
        "outputId": "1fd388f9-605d-4f11-ce9b-cbb7e7362bf9"
      },
      "source": [
        "print(\"Matrix of ones\\n-----------------\")\n",
        "print(np.ones((5,2,8)))"
      ],
      "execution_count": null,
      "outputs": [
        {
          "output_type": "stream",
          "text": [
            "Matrix of ones\n",
            "-----------------\n",
            "[[[1. 1. 1. 1. 1. 1. 1. 1.]\n",
            "  [1. 1. 1. 1. 1. 1. 1. 1.]]\n",
            "\n",
            " [[1. 1. 1. 1. 1. 1. 1. 1.]\n",
            "  [1. 1. 1. 1. 1. 1. 1. 1.]]\n",
            "\n",
            " [[1. 1. 1. 1. 1. 1. 1. 1.]\n",
            "  [1. 1. 1. 1. 1. 1. 1. 1.]]\n",
            "\n",
            " [[1. 1. 1. 1. 1. 1. 1. 1.]\n",
            "  [1. 1. 1. 1. 1. 1. 1. 1.]]\n",
            "\n",
            " [[1. 1. 1. 1. 1. 1. 1. 1.]\n",
            "  [1. 1. 1. 1. 1. 1. 1. 1.]]]\n"
          ],
          "name": "stdout"
        }
      ]
    },
    {
      "cell_type": "code",
      "metadata": {
        "colab": {
          "base_uri": "https://localhost:8080/"
        },
        "id": "duWqn7x51xWQ",
        "outputId": "7fd12b7f-09d6-4903-b28a-0f6826aba27f"
      },
      "source": [
        "print(\"Matrix of 5's\\n-------------------\")\n",
        "print(5+np.ones((3,4)))"
      ],
      "execution_count": null,
      "outputs": [
        {
          "output_type": "stream",
          "text": [
            "Matrix of 5's\n",
            "-------------------\n",
            "[[6. 6. 6. 6.]\n",
            " [6. 6. 6. 6.]\n",
            " [6. 6. 6. 6.]]\n"
          ],
          "name": "stdout"
        }
      ]
    },
    {
      "cell_type": "code",
      "metadata": {
        "colab": {
          "base_uri": "https://localhost:8080/"
        },
        "id": "uOG8TGAv1xZB",
        "outputId": "a525f180-7728-4940-bd8f-fb4249890393"
      },
      "source": [
        "np.ones((3,4))+5"
      ],
      "execution_count": null,
      "outputs": [
        {
          "output_type": "execute_result",
          "data": {
            "text/plain": [
              "array([[6., 6., 6., 6.],\n",
              "       [6., 6., 6., 6.],\n",
              "       [6., 6., 6., 6.]])"
            ]
          },
          "metadata": {
            "tags": []
          },
          "execution_count": 62
        }
      ]
    },
    {
      "cell_type": "code",
      "metadata": {
        "colab": {
          "base_uri": "https://localhost:8080/"
        },
        "id": "IcNPtTYu1xbR",
        "outputId": "cd7d5ce8-4b43-4dd0-a17e-3ec5d1c8e2af"
      },
      "source": [
        "np.ones((3,5))*10"
      ],
      "execution_count": null,
      "outputs": [
        {
          "output_type": "execute_result",
          "data": {
            "text/plain": [
              "array([[10., 10., 10., 10., 10.],\n",
              "       [10., 10., 10., 10., 10.],\n",
              "       [10., 10., 10., 10., 10.]])"
            ]
          },
          "metadata": {
            "tags": []
          },
          "execution_count": 64
        }
      ]
    },
    {
      "cell_type": "code",
      "metadata": {
        "colab": {
          "base_uri": "https://localhost:8080/"
        },
        "id": "-kGsym0g1xd7",
        "outputId": "fca96d9f-def1-4fb1-fdc6-c7affbfe0b1e"
      },
      "source": [
        "print(\"Empty Matrix\\n------------------------\\n\",np.empty((3,5)))\n",
        "\n",
        "#np.empty will pick up any random number"
      ],
      "execution_count": null,
      "outputs": [
        {
          "output_type": "stream",
          "text": [
            "Empty Matrix\n",
            "------------------------\n",
            " [[10. 10. 10. 10. 10.]\n",
            " [10. 10. 10. 10. 10.]\n",
            " [10. 10. 10. 10. 10.]]\n"
          ],
          "name": "stdout"
        }
      ]
    },
    {
      "cell_type": "code",
      "metadata": {
        "colab": {
          "base_uri": "https://localhost:8080/"
        },
        "id": "SoDZ6AHF1xh0",
        "outputId": "a50fad19-ead8-473c-e9f2-85a2fc0f4db1"
      },
      "source": [
        "mat1=np.eye(5)\n",
        "print(\"Identity matrix of dimension\",mat1.shape)\n",
        "print(mat1)"
      ],
      "execution_count": null,
      "outputs": [
        {
          "output_type": "stream",
          "text": [
            "Identity matrix of dimension (5, 5)\n",
            "[[1. 0. 0. 0. 0.]\n",
            " [0. 1. 0. 0. 0.]\n",
            " [0. 0. 1. 0. 0.]\n",
            " [0. 0. 0. 1. 0.]\n",
            " [0. 0. 0. 0. 1.]]\n"
          ],
          "name": "stdout"
        }
      ]
    },
    {
      "cell_type": "markdown",
      "metadata": {
        "id": "-kiatOz36i0w"
      },
      "source": [
        "**Assignment**"
      ]
    },
    {
      "cell_type": "code",
      "metadata": {
        "colab": {
          "base_uri": "https://localhost:8080/"
        },
        "id": "8mX1Zpmr3YO1",
        "outputId": "671cd3e2-0288-4622-c812-a08fe8bb6d51"
      },
      "source": [
        "print(np.zeros((2,4,8))+5*2)"
      ],
      "execution_count": null,
      "outputs": [
        {
          "output_type": "stream",
          "text": [
            "[[[10. 10. 10. 10. 10. 10. 10. 10.]\n",
            "  [10. 10. 10. 10. 10. 10. 10. 10.]\n",
            "  [10. 10. 10. 10. 10. 10. 10. 10.]\n",
            "  [10. 10. 10. 10. 10. 10. 10. 10.]]\n",
            "\n",
            " [[10. 10. 10. 10. 10. 10. 10. 10.]\n",
            "  [10. 10. 10. 10. 10. 10. 10. 10.]\n",
            "  [10. 10. 10. 10. 10. 10. 10. 10.]\n",
            "  [10. 10. 10. 10. 10. 10. 10. 10.]]]\n"
          ],
          "name": "stdout"
        }
      ]
    },
    {
      "cell_type": "code",
      "metadata": {
        "colab": {
          "base_uri": "https://localhost:8080/"
        },
        "id": "qe6oAcyZ3YRQ",
        "outputId": "6711bcd6-8696-40d2-e62e-30fce4115630"
      },
      "source": [
        "print(np.linspace(4,8,80))"
      ],
      "execution_count": null,
      "outputs": [
        {
          "output_type": "stream",
          "text": [
            "[4.         4.05063291 4.10126582 4.15189873 4.20253165 4.25316456\n",
            " 4.30379747 4.35443038 4.40506329 4.4556962  4.50632911 4.55696203\n",
            " 4.60759494 4.65822785 4.70886076 4.75949367 4.81012658 4.86075949\n",
            " 4.91139241 4.96202532 5.01265823 5.06329114 5.11392405 5.16455696\n",
            " 5.21518987 5.26582278 5.3164557  5.36708861 5.41772152 5.46835443\n",
            " 5.51898734 5.56962025 5.62025316 5.67088608 5.72151899 5.7721519\n",
            " 5.82278481 5.87341772 5.92405063 5.97468354 6.02531646 6.07594937\n",
            " 6.12658228 6.17721519 6.2278481  6.27848101 6.32911392 6.37974684\n",
            " 6.43037975 6.48101266 6.53164557 6.58227848 6.63291139 6.6835443\n",
            " 6.73417722 6.78481013 6.83544304 6.88607595 6.93670886 6.98734177\n",
            " 7.03797468 7.08860759 7.13924051 7.18987342 7.24050633 7.29113924\n",
            " 7.34177215 7.39240506 7.44303797 7.49367089 7.5443038  7.59493671\n",
            " 7.64556962 7.69620253 7.74683544 7.79746835 7.84810127 7.89873418\n",
            " 7.94936709 8.        ]\n"
          ],
          "name": "stdout"
        }
      ]
    },
    {
      "cell_type": "code",
      "metadata": {
        "colab": {
          "base_uri": "https://localhost:8080/"
        },
        "id": "g2B7agNZ3YUH",
        "outputId": "9ee9e498-3a0d-4a4b-da30-324a2b8d0811"
      },
      "source": [
        "list=[1,2,3,4,5]\n",
        "np.mat(list)"
      ],
      "execution_count": null,
      "outputs": [
        {
          "output_type": "execute_result",
          "data": {
            "text/plain": [
              "matrix([[1, 2, 3, 4, 5]])"
            ]
          },
          "metadata": {
            "tags": []
          },
          "execution_count": 83
        }
      ]
    },
    {
      "cell_type": "code",
      "metadata": {
        "colab": {
          "base_uri": "https://localhost:8080/"
        },
        "id": "gDRKWoEs3YWq",
        "outputId": "7b2c3b1a-1994-47c2-af86-650687dc495e"
      },
      "source": [
        "b=np.ones((4,5,2))\n",
        "print(b)"
      ],
      "execution_count": null,
      "outputs": [
        {
          "output_type": "stream",
          "text": [
            "[[[1. 1.]\n",
            "  [1. 1.]\n",
            "  [1. 1.]\n",
            "  [1. 1.]\n",
            "  [1. 1.]]\n",
            "\n",
            " [[1. 1.]\n",
            "  [1. 1.]\n",
            "  [1. 1.]\n",
            "  [1. 1.]\n",
            "  [1. 1.]]\n",
            "\n",
            " [[1. 1.]\n",
            "  [1. 1.]\n",
            "  [1. 1.]\n",
            "  [1. 1.]\n",
            "  [1. 1.]]\n",
            "\n",
            " [[1. 1.]\n",
            "  [1. 1.]\n",
            "  [1. 1.]\n",
            "  [1. 1.]\n",
            "  [1. 1.]]]\n"
          ],
          "name": "stdout"
        }
      ]
    },
    {
      "cell_type": "code",
      "metadata": {
        "colab": {
          "base_uri": "https://localhost:8080/"
        },
        "id": "-UYKZsnR3YZa",
        "outputId": "97062f23-013b-40bf-b8e3-303ad64dc5d0"
      },
      "source": [
        "print(b.ndim)"
      ],
      "execution_count": null,
      "outputs": [
        {
          "output_type": "stream",
          "text": [
            "3\n"
          ],
          "name": "stdout"
        }
      ]
    },
    {
      "cell_type": "code",
      "metadata": {
        "colab": {
          "base_uri": "https://localhost:8080/"
        },
        "id": "4VEBSNSk8ZFT",
        "outputId": "797178f9-ad12-4d31-ed05-8d10264bff50"
      },
      "source": [
        "print(b.shape)"
      ],
      "execution_count": null,
      "outputs": [
        {
          "output_type": "stream",
          "text": [
            "(4, 5, 2)\n"
          ],
          "name": "stdout"
        }
      ]
    },
    {
      "cell_type": "code",
      "metadata": {
        "colab": {
          "base_uri": "https://localhost:8080/"
        },
        "id": "aOk5YNJK8ZJD",
        "outputId": "d1d8f4b8-49c3-4f8c-a59d-71239fdaec79"
      },
      "source": [
        "print(b.dtype)"
      ],
      "execution_count": null,
      "outputs": [
        {
          "output_type": "stream",
          "text": [
            "float64\n"
          ],
          "name": "stdout"
        }
      ]
    },
    {
      "cell_type": "code",
      "metadata": {
        "colab": {
          "base_uri": "https://localhost:8080/"
        },
        "id": "xM9to0u43Ycs",
        "outputId": "46c068ea-7c97-4169-d347-4f482f340117"
      },
      "source": [
        "x1=np.ones((3,3,3))\n",
        "x2=np.ones((3,3,3))+5\n",
        "x1+x2"
      ],
      "execution_count": null,
      "outputs": [
        {
          "output_type": "execute_result",
          "data": {
            "text/plain": [
              "array([[[7., 7., 7.],\n",
              "        [7., 7., 7.],\n",
              "        [7., 7., 7.]],\n",
              "\n",
              "       [[7., 7., 7.],\n",
              "        [7., 7., 7.],\n",
              "        [7., 7., 7.]],\n",
              "\n",
              "       [[7., 7., 7.],\n",
              "        [7., 7., 7.],\n",
              "        [7., 7., 7.]]])"
            ]
          },
          "metadata": {
            "tags": []
          },
          "execution_count": 97
        }
      ]
    },
    {
      "cell_type": "code",
      "metadata": {
        "colab": {
          "base_uri": "https://localhost:8080/"
        },
        "id": "UMm06Q9V9YPF",
        "outputId": "b3b0d9b3-65dd-4055-8ec7-9167ba2d4669"
      },
      "source": [
        "a=9\n",
        "np.array(a).ndim\n",
        "np.array([4,5,6]).ndim"
      ],
      "execution_count": null,
      "outputs": [
        {
          "output_type": "execute_result",
          "data": {
            "text/plain": [
              "1"
            ]
          },
          "metadata": {
            "tags": []
          },
          "execution_count": 99
        }
      ]
    },
    {
      "cell_type": "markdown",
      "metadata": {
        "id": "YGhRQNjLuUm2"
      },
      "source": [
        "**reshape()**"
      ]
    },
    {
      "cell_type": "code",
      "metadata": {
        "colab": {
          "base_uri": "https://localhost:8080/"
        },
        "id": "ofS_VNU1uP-O",
        "outputId": "780f38aa-5427-4003-a0cd-377990233e64"
      },
      "source": [
        "np.arange(16).reshape((4,4))"
      ],
      "execution_count": null,
      "outputs": [
        {
          "output_type": "execute_result",
          "data": {
            "text/plain": [
              "array([[ 0,  1,  2,  3],\n",
              "       [ 4,  5,  6,  7],\n",
              "       [ 8,  9, 10, 11],\n",
              "       [12, 13, 14, 15]])"
            ]
          },
          "metadata": {
            "tags": []
          },
          "execution_count": 2
        }
      ]
    },
    {
      "cell_type": "code",
      "metadata": {
        "colab": {
          "base_uri": "https://localhost:8080/"
        },
        "id": "JvrvzX-KuQAz",
        "outputId": "bf96e269-c0e9-4a4b-dcbf-e5e18916e023"
      },
      "source": [
        "np.arange(16).reshape((4,4,1))"
      ],
      "execution_count": null,
      "outputs": [
        {
          "output_type": "execute_result",
          "data": {
            "text/plain": [
              "array([[[ 0],\n",
              "        [ 1],\n",
              "        [ 2],\n",
              "        [ 3]],\n",
              "\n",
              "       [[ 4],\n",
              "        [ 5],\n",
              "        [ 6],\n",
              "        [ 7]],\n",
              "\n",
              "       [[ 8],\n",
              "        [ 9],\n",
              "        [10],\n",
              "        [11]],\n",
              "\n",
              "       [[12],\n",
              "        [13],\n",
              "        [14],\n",
              "        [15]]])"
            ]
          },
          "metadata": {
            "tags": []
          },
          "execution_count": 6
        }
      ]
    },
    {
      "cell_type": "code",
      "metadata": {
        "colab": {
          "base_uri": "https://localhost:8080/"
        },
        "id": "QYJRd2ejuQDJ",
        "outputId": "f16d0531-24a9-43dc-93db-4d8385684329"
      },
      "source": [
        "np.arange(16).reshape((1,-1))"
      ],
      "execution_count": null,
      "outputs": [
        {
          "output_type": "execute_result",
          "data": {
            "text/plain": [
              "array([[ 0,  1,  2,  3,  4,  5,  6,  7,  8,  9, 10, 11, 12, 13, 14, 15]])"
            ]
          },
          "metadata": {
            "tags": []
          },
          "execution_count": 8
        }
      ]
    },
    {
      "cell_type": "code",
      "metadata": {
        "colab": {
          "base_uri": "https://localhost:8080/"
        },
        "id": "782EBzxVuQGI",
        "outputId": "489287be-b2a9-4c09-9a98-b2c6eb29fd17"
      },
      "source": [
        "x=np.arange(16).reshape((-1,4))\n",
        "x"
      ],
      "execution_count": null,
      "outputs": [
        {
          "output_type": "execute_result",
          "data": {
            "text/plain": [
              "array([[ 0,  1,  2,  3],\n",
              "       [ 4,  5,  6,  7],\n",
              "       [ 8,  9, 10, 11],\n",
              "       [12, 13, 14, 15]])"
            ]
          },
          "metadata": {
            "tags": []
          },
          "execution_count": 4
        }
      ]
    },
    {
      "cell_type": "code",
      "metadata": {
        "id": "2iDauQRpuQJM",
        "colab": {
          "base_uri": "https://localhost:8080/"
        },
        "outputId": "782c8f89-6cf8-4a0e-8990-e9f04b039dea"
      },
      "source": [
        "np.diag(x)"
      ],
      "execution_count": null,
      "outputs": [
        {
          "output_type": "execute_result",
          "data": {
            "text/plain": [
              "array([ 0,  5, 10, 15])"
            ]
          },
          "metadata": {
            "tags": []
          },
          "execution_count": 13
        }
      ]
    },
    {
      "cell_type": "code",
      "metadata": {
        "id": "BBt0KlZwuy70",
        "colab": {
          "base_uri": "https://localhost:8080/"
        },
        "outputId": "6e1c324d-74f9-4153-a55f-5b8ca8f92303"
      },
      "source": [
        "np.diag(x,k=0)"
      ],
      "execution_count": null,
      "outputs": [
        {
          "output_type": "execute_result",
          "data": {
            "text/plain": [
              "array([ 0,  5, 10, 15])"
            ]
          },
          "metadata": {
            "tags": []
          },
          "execution_count": 17
        }
      ]
    },
    {
      "cell_type": "code",
      "metadata": {
        "id": "XFt0Mv3-uy-c",
        "colab": {
          "base_uri": "https://localhost:8080/"
        },
        "outputId": "61fec6c9-3d58-49bf-e7d2-24230aea6fb7"
      },
      "source": [
        "y=np.arange(16).reshape((-1,8))\n",
        "y"
      ],
      "execution_count": null,
      "outputs": [
        {
          "output_type": "execute_result",
          "data": {
            "text/plain": [
              "array([[ 0,  1,  2,  3,  4,  5,  6,  7],\n",
              "       [ 8,  9, 10, 11, 12, 13, 14, 15]])"
            ]
          },
          "metadata": {
            "tags": []
          },
          "execution_count": 18
        }
      ]
    },
    {
      "cell_type": "code",
      "metadata": {
        "id": "BqtcFw-zuzAg",
        "colab": {
          "base_uri": "https://localhost:8080/"
        },
        "outputId": "c0cae9e3-7961-4e8d-d241-dbbdcbb83530"
      },
      "source": [
        "np.diag(y)\n",
        "\n",
        "#diagonal matrix of the 1st squared array"
      ],
      "execution_count": null,
      "outputs": [
        {
          "output_type": "execute_result",
          "data": {
            "text/plain": [
              "array([0, 9])"
            ]
          },
          "metadata": {
            "tags": []
          },
          "execution_count": 19
        }
      ]
    },
    {
      "cell_type": "code",
      "metadata": {
        "id": "mA-QxBZ4uzDb",
        "colab": {
          "base_uri": "https://localhost:8080/"
        },
        "outputId": "499393eb-3837-4572-b13e-342f7768f413"
      },
      "source": [
        "x"
      ],
      "execution_count": null,
      "outputs": [
        {
          "output_type": "execute_result",
          "data": {
            "text/plain": [
              "array([[ 0,  1,  2,  3],\n",
              "       [ 4,  5,  6,  7],\n",
              "       [ 8,  9, 10, 11],\n",
              "       [12, 13, 14, 15]])"
            ]
          },
          "metadata": {
            "tags": []
          },
          "execution_count": 5
        }
      ]
    },
    {
      "cell_type": "code",
      "metadata": {
        "colab": {
          "base_uri": "https://localhost:8080/"
        },
        "id": "NDGOGJwfHt4I",
        "outputId": "703491d2-6434-4a4f-94be-c7cbcde5973e"
      },
      "source": [
        "np.diag(x, k=1)"
      ],
      "execution_count": null,
      "outputs": [
        {
          "output_type": "execute_result",
          "data": {
            "text/plain": [
              "array([ 1,  6, 11])"
            ]
          },
          "metadata": {
            "tags": []
          },
          "execution_count": 21
        }
      ]
    },
    {
      "cell_type": "code",
      "metadata": {
        "colab": {
          "base_uri": "https://localhost:8080/"
        },
        "id": "qBqLTcANHt7w",
        "outputId": "774812ee-f598-4056-ed69-6f5ab1a65d36"
      },
      "source": [
        "np.diag(x,k=-1)"
      ],
      "execution_count": null,
      "outputs": [
        {
          "output_type": "execute_result",
          "data": {
            "text/plain": [
              "array([ 4,  9, 14])"
            ]
          },
          "metadata": {
            "tags": []
          },
          "execution_count": 22
        }
      ]
    },
    {
      "cell_type": "code",
      "metadata": {
        "id": "-MGNeWVruzGz",
        "colab": {
          "base_uri": "https://localhost:8080/"
        },
        "outputId": "bbd2792d-07cd-4496-f2b4-e7924f343470"
      },
      "source": [
        "np.diag(x,k=-4)"
      ],
      "execution_count": null,
      "outputs": [
        {
          "output_type": "execute_result",
          "data": {
            "text/plain": [
              "array([], dtype=int64)"
            ]
          },
          "metadata": {
            "tags": []
          },
          "execution_count": 23
        }
      ]
    },
    {
      "cell_type": "code",
      "metadata": {
        "colab": {
          "base_uri": "https://localhost:8080/"
        },
        "id": "x-pTRFi_KPCH",
        "outputId": "c531130b-16db-4dd0-b8aa-fe1eea0145ce"
      },
      "source": [
        "np.diag(np.diag(x))"
      ],
      "execution_count": null,
      "outputs": [
        {
          "output_type": "execute_result",
          "data": {
            "text/plain": [
              "array([[ 0,  0,  0,  0],\n",
              "       [ 0,  5,  0,  0],\n",
              "       [ 0,  0, 10,  0],\n",
              "       [ 0,  0,  0, 15]])"
            ]
          },
          "metadata": {
            "tags": []
          },
          "execution_count": 6
        }
      ]
    },
    {
      "cell_type": "code",
      "metadata": {
        "colab": {
          "base_uri": "https://localhost:8080/"
        },
        "id": "UaLVhpTsKPEd",
        "outputId": "1cbe4763-5315-4ce9-f042-410cbb8c0d5d"
      },
      "source": [
        "#create a 2D array with the flattened input as diagonal\n",
        "\n",
        "np.diagflat([[1,2],[3,4]])"
      ],
      "execution_count": null,
      "outputs": [
        {
          "output_type": "execute_result",
          "data": {
            "text/plain": [
              "array([[1, 0, 0, 0],\n",
              "       [0, 2, 0, 0],\n",
              "       [0, 0, 3, 0],\n",
              "       [0, 0, 0, 4]])"
            ]
          },
          "metadata": {
            "tags": []
          },
          "execution_count": 7
        }
      ]
    },
    {
      "cell_type": "code",
      "metadata": {
        "colab": {
          "base_uri": "https://localhost:8080/"
        },
        "id": "-E1gvEAWKPHO",
        "outputId": "489ed77b-1a25-404b-e52f-643647c01770"
      },
      "source": [
        "np.diagflat([[1,2],[3,4]],k=1)"
      ],
      "execution_count": null,
      "outputs": [
        {
          "output_type": "execute_result",
          "data": {
            "text/plain": [
              "array([[0, 1, 0, 0, 0],\n",
              "       [0, 0, 2, 0, 0],\n",
              "       [0, 0, 0, 3, 0],\n",
              "       [0, 0, 0, 0, 4],\n",
              "       [0, 0, 0, 0, 0]])"
            ]
          },
          "metadata": {
            "tags": []
          },
          "execution_count": 8
        }
      ]
    },
    {
      "cell_type": "code",
      "metadata": {
        "colab": {
          "base_uri": "https://localhost:8080/"
        },
        "id": "DxTiry4iKPJf",
        "outputId": "a7920d4f-7768-428c-a02f-1dcedfda382e"
      },
      "source": [
        "np.diagflat([[1,2],[3,4]],k=-1)"
      ],
      "execution_count": null,
      "outputs": [
        {
          "output_type": "execute_result",
          "data": {
            "text/plain": [
              "array([[0, 0, 0, 0, 0],\n",
              "       [1, 0, 0, 0, 0],\n",
              "       [0, 2, 0, 0, 0],\n",
              "       [0, 0, 3, 0, 0],\n",
              "       [0, 0, 0, 4, 0]])"
            ]
          },
          "metadata": {
            "tags": []
          },
          "execution_count": 10
        }
      ]
    },
    {
      "cell_type": "code",
      "metadata": {
        "colab": {
          "base_uri": "https://localhost:8080/"
        },
        "id": "yKxg84JXKPMS",
        "outputId": "2b040fd1-c4d1-45a5-97c6-2628c72bb4b9"
      },
      "source": [
        "np.diagflat([1,2],1)"
      ],
      "execution_count": null,
      "outputs": [
        {
          "output_type": "execute_result",
          "data": {
            "text/plain": [
              "array([[0, 1, 0],\n",
              "       [0, 0, 2],\n",
              "       [0, 0, 0]])"
            ]
          },
          "metadata": {
            "tags": []
          },
          "execution_count": 14
        }
      ]
    },
    {
      "cell_type": "code",
      "metadata": {
        "colab": {
          "base_uri": "https://localhost:8080/"
        },
        "id": "V5RVKhLKKPPb",
        "outputId": "996bd6cf-162c-409b-c265-3cb46802cde3"
      },
      "source": [
        "#An array with ones at and below the given diagonal and zeros elsewhere\n",
        "\n",
        "np.tri(4,4,1,dtype=float)"
      ],
      "execution_count": null,
      "outputs": [
        {
          "output_type": "execute_result",
          "data": {
            "text/plain": [
              "array([[1., 1., 0., 0.],\n",
              "       [1., 1., 1., 0.],\n",
              "       [1., 1., 1., 1.],\n",
              "       [1., 1., 1., 1.]])"
            ]
          },
          "metadata": {
            "tags": []
          },
          "execution_count": 21
        }
      ]
    },
    {
      "cell_type": "code",
      "metadata": {
        "colab": {
          "base_uri": "https://localhost:8080/"
        },
        "id": "-0rTUod8GsK0",
        "outputId": "b93188da-804f-4b91-c5b3-a95689a939e8"
      },
      "source": [
        "np.tri(4,4,k=-1)"
      ],
      "execution_count": null,
      "outputs": [
        {
          "output_type": "execute_result",
          "data": {
            "text/plain": [
              "array([[0., 0., 0., 0.],\n",
              "       [1., 0., 0., 0.],\n",
              "       [1., 1., 0., 0.],\n",
              "       [1., 1., 1., 0.]])"
            ]
          },
          "metadata": {
            "tags": []
          },
          "execution_count": 19
        }
      ]
    },
    {
      "cell_type": "code",
      "metadata": {
        "colab": {
          "base_uri": "https://localhost:8080/"
        },
        "id": "IY8eLOGaGsNg",
        "outputId": "78962a7d-0466-4131-81e2-c6d4240b3b59"
      },
      "source": [
        "\n",
        "np.tri(4,4,0,dtype=float)\n",
        "\n",
        "#k=0"
      ],
      "execution_count": null,
      "outputs": [
        {
          "output_type": "execute_result",
          "data": {
            "text/plain": [
              "array([[1., 0., 0., 0.],\n",
              "       [1., 1., 0., 0.],\n",
              "       [1., 1., 1., 0.],\n",
              "       [1., 1., 1., 1.]])"
            ]
          },
          "metadata": {
            "tags": []
          },
          "execution_count": 20
        }
      ]
    },
    {
      "cell_type": "code",
      "metadata": {
        "colab": {
          "base_uri": "https://localhost:8080/"
        },
        "id": "VCdz9bAhGsQr",
        "outputId": "e9aafa17-14d3-48b5-b304-28df9748db4c"
      },
      "source": [
        "\n",
        "a=np.tri(4,4,2,dtype=float)\n",
        "a\n",
        "\n",
        "#k=2\n"
      ],
      "execution_count": null,
      "outputs": [
        {
          "output_type": "execute_result",
          "data": {
            "text/plain": [
              "array([[1., 1., 1., 0.],\n",
              "       [1., 1., 1., 1.],\n",
              "       [1., 1., 1., 1.],\n",
              "       [1., 1., 1., 1.]])"
            ]
          },
          "metadata": {
            "tags": []
          },
          "execution_count": 7
        }
      ]
    },
    {
      "cell_type": "code",
      "metadata": {
        "colab": {
          "base_uri": "https://localhost:8080/"
        },
        "id": "Bf6Z4q2N8iKv",
        "outputId": "11a37c6a-f494-4fbe-89af-46b2906e483a"
      },
      "source": [
        "a[0]"
      ],
      "execution_count": null,
      "outputs": [
        {
          "output_type": "execute_result",
          "data": {
            "text/plain": [
              "array([1., 1., 1., 0.])"
            ]
          },
          "metadata": {
            "tags": []
          },
          "execution_count": 6
        }
      ]
    },
    {
      "cell_type": "code",
      "metadata": {
        "colab": {
          "base_uri": "https://localhost:8080/"
        },
        "id": "QVAhdvuUJtQT",
        "outputId": "f81e2add-086c-4ab5-82a4-dc2399ae3b86"
      },
      "source": [
        "for i in a:\n",
        "  print(i)"
      ],
      "execution_count": null,
      "outputs": [
        {
          "output_type": "stream",
          "text": [
            "[1. 1. 1. 0.]\n",
            "[1. 1. 1. 1.]\n",
            "[1. 1. 1. 1.]\n",
            "[1. 1. 1. 1.]\n"
          ],
          "name": "stdout"
        }
      ]
    },
    {
      "cell_type": "code",
      "metadata": {
        "colab": {
          "base_uri": "https://localhost:8080/"
        },
        "id": "FlPe8SuQJtTK",
        "outputId": "2fc14358-4d18-49f6-a4fa-dfcc74ba7f35"
      },
      "source": [
        "for i in a:\n",
        "  for j in i:\n",
        "    print(j)"
      ],
      "execution_count": null,
      "outputs": [
        {
          "output_type": "stream",
          "text": [
            "1.0\n",
            "1.0\n",
            "1.0\n",
            "0.0\n",
            "1.0\n",
            "1.0\n",
            "1.0\n",
            "1.0\n",
            "1.0\n",
            "1.0\n",
            "1.0\n",
            "1.0\n",
            "1.0\n",
            "1.0\n",
            "1.0\n",
            "1.0\n"
          ],
          "name": "stdout"
        }
      ]
    },
    {
      "cell_type": "code",
      "metadata": {
        "id": "-YGkd7dyJtWw",
        "colab": {
          "base_uri": "https://localhost:8080/"
        },
        "outputId": "e6450d16-718e-4be9-9387-5b649ca8f812"
      },
      "source": [
        "#return a lower triangle of an array\n",
        "\n",
        "\n",
        "np.tril([[1,2,3],[4,5,6],[7,8,9]],0)"
      ],
      "execution_count": null,
      "outputs": [
        {
          "output_type": "execute_result",
          "data": {
            "text/plain": [
              "array([[1, 0, 0],\n",
              "       [4, 5, 0],\n",
              "       [7, 8, 9]])"
            ]
          },
          "metadata": {
            "tags": []
          },
          "execution_count": 7
        }
      ]
    },
    {
      "cell_type": "code",
      "metadata": {
        "id": "Pr9pn7MBJtZL",
        "colab": {
          "base_uri": "https://localhost:8080/"
        },
        "outputId": "4b51514c-b8b5-42f4-a82f-ac50facd4d77"
      },
      "source": [
        "np.tril([[1,2,3],[4,5,6],[7,8,9]],1)"
      ],
      "execution_count": null,
      "outputs": [
        {
          "output_type": "execute_result",
          "data": {
            "text/plain": [
              "array([[1, 2, 0],\n",
              "       [4, 5, 6],\n",
              "       [7, 8, 9]])"
            ]
          },
          "metadata": {
            "tags": []
          },
          "execution_count": 8
        }
      ]
    },
    {
      "cell_type": "code",
      "metadata": {
        "id": "nGCahUsDJtci",
        "colab": {
          "base_uri": "https://localhost:8080/"
        },
        "outputId": "e2ae655b-0e5d-49be-d4f2-8d41f3841723"
      },
      "source": [
        "#return upper triangle of an array\n",
        "\n",
        "np.triu([[1,2,3],[4,5,6],[7,8,9]],0)"
      ],
      "execution_count": null,
      "outputs": [
        {
          "output_type": "execute_result",
          "data": {
            "text/plain": [
              "array([[1, 2, 3],\n",
              "       [0, 5, 6],\n",
              "       [0, 0, 9]])"
            ]
          },
          "metadata": {
            "tags": []
          },
          "execution_count": 9
        }
      ]
    },
    {
      "cell_type": "code",
      "metadata": {
        "colab": {
          "base_uri": "https://localhost:8080/"
        },
        "id": "2yJ4-kJXfNvc",
        "outputId": "931a105d-94c5-4cca-9f2a-278cb1b29340"
      },
      "source": [
        "\n",
        "np.triu([[1,2,3],[4,5,6],[7,8,9]],1)"
      ],
      "execution_count": null,
      "outputs": [
        {
          "output_type": "execute_result",
          "data": {
            "text/plain": [
              "array([[0, 2, 3],\n",
              "       [0, 0, 6],\n",
              "       [0, 0, 0]])"
            ]
          },
          "metadata": {
            "tags": []
          },
          "execution_count": 10
        }
      ]
    },
    {
      "cell_type": "code",
      "metadata": {
        "colab": {
          "base_uri": "https://localhost:8080/"
        },
        "id": "7xrKz98gfTWz",
        "outputId": "93b9bfe3-198b-44af-e9db-bb6fc1abe33f"
      },
      "source": [
        "\n",
        "np.triu([[1,2,3],[4,5,6],[7,8,9],[10,11,12]],0)"
      ],
      "execution_count": null,
      "outputs": [
        {
          "output_type": "execute_result",
          "data": {
            "text/plain": [
              "array([[1, 2, 3],\n",
              "       [0, 5, 6],\n",
              "       [0, 0, 9],\n",
              "       [0, 0, 0]])"
            ]
          },
          "metadata": {
            "tags": []
          },
          "execution_count": 11
        }
      ]
    },
    {
      "cell_type": "code",
      "metadata": {
        "colab": {
          "base_uri": "https://localhost:8080/"
        },
        "id": "yF9sK3OUfTq_",
        "outputId": "340e6be4-a59f-4230-b16a-b063b767a0fb"
      },
      "source": [
        "np.triu([[1,2,3],[4,5,6],[7,8,9],[10,11,12]],1)"
      ],
      "execution_count": null,
      "outputs": [
        {
          "output_type": "execute_result",
          "data": {
            "text/plain": [
              "array([[0, 2, 3],\n",
              "       [0, 0, 6],\n",
              "       [0, 0, 0],\n",
              "       [0, 0, 0]])"
            ]
          },
          "metadata": {
            "tags": []
          },
          "execution_count": 13
        }
      ]
    },
    {
      "cell_type": "code",
      "metadata": {
        "colab": {
          "base_uri": "https://localhost:8080/"
        },
        "id": "htMf71hSfTuu",
        "outputId": "7507bc82-98cb-462a-9b28-30510bb591ea"
      },
      "source": [
        "np.triu([[1,2,3],[4,5,6],[7,8,9],[10,11,12]],-1)"
      ],
      "execution_count": null,
      "outputs": [
        {
          "output_type": "execute_result",
          "data": {
            "text/plain": [
              "array([[ 1,  2,  3],\n",
              "       [ 4,  5,  6],\n",
              "       [ 0,  8,  9],\n",
              "       [ 0,  0, 12]])"
            ]
          },
          "metadata": {
            "tags": []
          },
          "execution_count": 14
        }
      ]
    },
    {
      "cell_type": "markdown",
      "metadata": {
        "id": "_35o6Faegncx"
      },
      "source": [
        "**Random Number Generation**"
      ]
    },
    {
      "cell_type": "code",
      "metadata": {
        "colab": {
          "base_uri": "https://localhost:8080/"
        },
        "id": "CVaCHJhwgmqb",
        "outputId": "1be70f7b-506a-429c-f3e3-4c4eb014baac"
      },
      "source": [
        "print('Random number Generation (from Uniform Distribution)')\n",
        "print(np.random.rand(2,3)) #2 by 3 matrix with random numbers ranging between 0 to 1. No tuple necessary.\n",
        "\n",
        "#uniform distribution: numbers ranging in between 0 to 1."
      ],
      "execution_count": null,
      "outputs": [
        {
          "output_type": "stream",
          "text": [
            "Random number Generation (from Uniform Distribution)\n",
            "[[0.02316527 0.989543   0.31711982]\n",
            " [0.10937497 0.36002954 0.63066302]]\n"
          ],
          "name": "stdout"
        }
      ]
    },
    {
      "cell_type": "code",
      "metadata": {
        "colab": {
          "base_uri": "https://localhost:8080/"
        },
        "id": "_8JfZkCFhoZj",
        "outputId": "04bfec90-8e20-4310-b200-6f00551500ff"
      },
      "source": [
        "print('Random number Generation (from Uniform Distribution)')\n",
        "print(np.random.rand(2,3,8))"
      ],
      "execution_count": null,
      "outputs": [
        {
          "output_type": "stream",
          "text": [
            "Random number Generation (from Uniform Distribution)\n",
            "[[[0.48001756 0.58949767 0.62716514 0.65461442 0.16415232 0.00106478\n",
            "   0.0107007  0.09133153]\n",
            "  [0.86508251 0.14413736 0.37050847 0.73654619 0.22541563 0.38116845\n",
            "   0.44104752 0.48474222]\n",
            "  [0.41059956 0.01517798 0.93909845 0.55945384 0.54954574 0.50494474\n",
            "   0.71175315 0.28167713]]\n",
            "\n",
            " [[0.99494203 0.76828895 0.69267339 0.62806457 0.24188873 0.21489013\n",
            "   0.79109672 0.80464172]\n",
            "  [0.79431901 0.15554729 0.46886734 0.73807949 0.27071451 0.43271573\n",
            "   0.19009937 0.8649948 ]\n",
            "  [0.45589974 0.85323253 0.69126596 0.8877716  0.38714111 0.92695298\n",
            "   0.38712318 0.05119019]]]\n"
          ],
          "name": "stdout"
        }
      ]
    },
    {
      "cell_type": "code",
      "metadata": {
        "colab": {
          "base_uri": "https://localhost:8080/"
        },
        "id": "EGImnMd6hocN",
        "outputId": "438d1d7f-cd81-4d28-8f21-674e4426455a"
      },
      "source": [
        "print('Numbers from Normal Distribution with mean 0 and standard deviation is 1 i.e. standard normal')\n",
        "print(np.random.randn(4,3))"
      ],
      "execution_count": null,
      "outputs": [
        {
          "output_type": "stream",
          "text": [
            "Numbers from Normal Distribution with mean 0 and standard deviation is 1 i.e. standard normal\n",
            "[[ 0.29137389  0.39208375  0.52126551]\n",
            " [-1.53409127  1.14477487 -0.4584743 ]\n",
            " [ 1.27130021 -0.33429532 -0.60989493]\n",
            " [-0.42879581 -0.51040574 -0.51256465]]\n"
          ],
          "name": "stdout"
        }
      ]
    },
    {
      "cell_type": "code",
      "metadata": {
        "colab": {
          "base_uri": "https://localhost:8080/"
        },
        "id": "4Jay3Tc8hofm",
        "outputId": "38a22940-2f8d-4c01-b898-ed0470e09538"
      },
      "source": [
        "print('Numbers from Normal Distribution with mean 0 and standard deviation is 1 i.e. standard normal')\n",
        "print(np.random.randn(4,3,5))\n",
        "\n",
        "#rand : It will give output based on uniform distribution\n",
        "#randn : It will give output based on standard normal distribution"
      ],
      "execution_count": null,
      "outputs": [
        {
          "output_type": "stream",
          "text": [
            "Numbers from Normal Distribution with mean 0 and standard deviation is 1 i.e. standard normal\n",
            "[[[ 0.54036983  0.30219158 -0.22326521 -0.97296347 -0.5069206 ]\n",
            "  [ 0.67857063  0.5275085   1.79943292  0.97062297  0.92851216]\n",
            "  [ 0.17339856 -0.51019708 -1.25728376  0.41806948 -1.76796937]]\n",
            "\n",
            " [[-1.80502309 -0.05134099 -1.22353375  0.79105998 -1.58571625]\n",
            "  [-2.11584475 -0.22825207 -2.50495375 -1.12616685  0.81721113]\n",
            "  [ 0.46714552 -0.32670322  2.28795187 -1.22912909  0.91993384]]\n",
            "\n",
            " [[ 0.76806582 -0.53634495 -0.89919792  1.75738795 -0.74336967]\n",
            "  [ 0.59473445 -1.06746662 -0.77026813 -0.76213373 -0.23146997]\n",
            "  [ 1.83592799 -0.23282825 -0.02290159 -0.08011643 -0.4014776 ]]\n",
            "\n",
            " [[-0.37104419  0.93980091  0.8656171   1.73882269  0.69733982]\n",
            "  [-1.218177    0.03768255  0.62982687  0.04060585 -1.4388184 ]\n",
            "  [ 0.84251592 -0.2879922   0.14575282  2.69158252  0.08109791]]]\n"
          ],
          "name": "stdout"
        }
      ]
    },
    {
      "cell_type": "code",
      "metadata": {
        "colab": {
          "base_uri": "https://localhost:8080/"
        },
        "id": "XiWTYZyCi8Ih",
        "outputId": "88bd5c11-144e-4c3d-e449-42c1ff61fbf0"
      },
      "source": [
        "print('Random integer vector:',np.random.randint(1,10)) #randint(low,high,# of samples to be drawn)\n",
        "print('\\nRandom Integer Matrix\\n')\n",
        "np.random.randint(1,10)"
      ],
      "execution_count": null,
      "outputs": [
        {
          "output_type": "stream",
          "text": [
            "Random integer vector: 4\n",
            "\n",
            "Random Integer Matrix\n",
            "\n"
          ],
          "name": "stdout"
        },
        {
          "output_type": "execute_result",
          "data": {
            "text/plain": [
              "9"
            ]
          },
          "metadata": {
            "tags": []
          },
          "execution_count": 22
        }
      ]
    },
    {
      "cell_type": "code",
      "metadata": {
        "colab": {
          "base_uri": "https://localhost:8080/"
        },
        "id": "WKF1Dqwbi8m3",
        "outputId": "bd7a4df8-2b1f-48d6-aa3c-ac9834775b5d"
      },
      "source": [
        "print(np.random.randint(1,100,(4,4))) #randint(low,high, # od samples to be drawn in a tuple ro form a matrix)\n",
        "print('\\n 20 samples drawn from a dice throw:',np.random.randint(1,7,20))\n"
      ],
      "execution_count": null,
      "outputs": [
        {
          "output_type": "stream",
          "text": [
            "[[23 73 15 99]\n",
            " [21 29 68 57]\n",
            " [98 83  7 80]\n",
            " [49 15 60 50]]\n",
            "\n",
            " 20 samples drawn from a dice throw: [6 6 6 2 3 2 5 1 5 4 2 2 5 3 4 4 1 4 4 5]\n"
          ],
          "name": "stdout"
        }
      ]
    },
    {
      "cell_type": "markdown",
      "metadata": {
        "id": "R6OR9VOYBKNr"
      },
      "source": [
        "**Reshaping**"
      ]
    },
    {
      "cell_type": "code",
      "metadata": {
        "colab": {
          "base_uri": "https://localhost:8080/"
        },
        "id": "IucRVsKfi8pT",
        "outputId": "29c02bfa-56a7-4122-905e-7706246212eb"
      },
      "source": [
        "from numpy.random import randint as ri\n",
        "a=ri(1,100,30)\n",
        "a"
      ],
      "execution_count": 1,
      "outputs": [
        {
          "output_type": "execute_result",
          "data": {
            "text/plain": [
              "array([85,  7, 27, 12, 58, 26, 73, 53, 32, 34,  3,  4, 25, 98, 84, 20,  3,\n",
              "       98,  5, 92, 93, 37, 18, 21, 84, 44, 78, 98, 81, 46])"
            ]
          },
          "metadata": {
            "tags": []
          },
          "execution_count": 1
        }
      ]
    },
    {
      "cell_type": "code",
      "metadata": {
        "colab": {
          "base_uri": "https://localhost:8080/"
        },
        "id": "Dm32C3m0i8tR",
        "outputId": "a6377865-5217-4e8f-8bc6-f81d25f44096"
      },
      "source": [
        "b=a.reshape(2,3,5)\n",
        "b"
      ],
      "execution_count": null,
      "outputs": [
        {
          "output_type": "execute_result",
          "data": {
            "text/plain": [
              "array([[[74,  6,  6, 11, 60],\n",
              "        [13, 78, 33, 77, 13],\n",
              "        [40, 13, 20, 15, 52]],\n",
              "\n",
              "       [[ 1, 44, 41, 43,  7],\n",
              "        [69, 49, 74, 42, 33],\n",
              "        [ 2, 36, 18, 55, 28]]])"
            ]
          },
          "metadata": {
            "tags": []
          },
          "execution_count": 29
        }
      ]
    },
    {
      "cell_type": "code",
      "metadata": {
        "colab": {
          "base_uri": "https://localhost:8080/"
        },
        "id": "BPz6GrNTi8yq",
        "outputId": "fe8004f6-b642-4e1e-cba1-65209a036d27"
      },
      "source": [
        "c=b.reshape(6,-19878)\n",
        "c"
      ],
      "execution_count": null,
      "outputs": [
        {
          "output_type": "execute_result",
          "data": {
            "text/plain": [
              "array([[74,  6,  6, 11, 60],\n",
              "       [13, 78, 33, 77, 13],\n",
              "       [40, 13, 20, 15, 52],\n",
              "       [ 1, 44, 41, 43,  7],\n",
              "       [69, 49, 74, 42, 33],\n",
              "       [ 2, 36, 18, 55, 28]])"
            ]
          },
          "metadata": {
            "tags": []
          },
          "execution_count": 33
        }
      ]
    },
    {
      "cell_type": "code",
      "metadata": {
        "colab": {
          "base_uri": "https://localhost:8080/"
        },
        "id": "0ogdbzsshoh9",
        "outputId": "02bdbd98-5f03-418f-eee7-b0d3e687701b"
      },
      "source": [
        "print('Shape of a:',a.shape)\n",
        "print('Shape of b:',b.shape)\n",
        "print('Shape of c:',c.shape)"
      ],
      "execution_count": null,
      "outputs": [
        {
          "output_type": "stream",
          "text": [
            "Shape of a: (30,)\n",
            "Shape of b: (2, 3, 5)\n",
            "Shape of c: (6, 5)\n"
          ],
          "name": "stdout"
        }
      ]
    },
    {
      "cell_type": "code",
      "metadata": {
        "colab": {
          "base_uri": "https://localhost:8080/"
        },
        "id": "THbASmF5holz",
        "outputId": "c815e1fa-aa0a-45b6-9aef-486ce2e00b16"
      },
      "source": [
        "print(\"\\na looks like\\n\",\"-\"*20,\"\\n\",a,\"\\n\",\"-\"*20)\n",
        "print(\"\\nb looks like\\n\",\"-\"*20,\"\\n\",b,\"\\n\",\"-\"*20)\n",
        "print(\"\\nc looks like\\n\",\"-\"*20,\"\\n\",c,\"\\n\",\"-\"*20)"
      ],
      "execution_count": null,
      "outputs": [
        {
          "output_type": "stream",
          "text": [
            "\n",
            "a looks like\n",
            " -------------------- \n",
            " [74  6  6 11 60 13 78 33 77 13 40 13 20 15 52  1 44 41 43  7 69 49 74 42\n",
            " 33  2 36 18 55 28] \n",
            " --------------------\n",
            "\n",
            "b looks like\n",
            " -------------------- \n",
            " [[[74  6  6 11 60]\n",
            "  [13 78 33 77 13]\n",
            "  [40 13 20 15 52]]\n",
            "\n",
            " [[ 1 44 41 43  7]\n",
            "  [69 49 74 42 33]\n",
            "  [ 2 36 18 55 28]]] \n",
            " --------------------\n",
            "\n",
            "c looks like\n",
            " -------------------- \n",
            " [[74  6  6 11 60]\n",
            " [13 78 33 77 13]\n",
            " [40 13 20 15 52]\n",
            " [ 1 44 41 43  7]\n",
            " [69 49 74 42 33]\n",
            " [ 2 36 18 55 28]] \n",
            " --------------------\n"
          ],
          "name": "stdout"
        }
      ]
    },
    {
      "cell_type": "code",
      "metadata": {
        "colab": {
          "base_uri": "https://localhost:8080/"
        },
        "id": "khmce9Fdhopm",
        "outputId": "e5beeb8d-aaba-4b9a-ec06-6bed32478d5f"
      },
      "source": [
        "A=ri(1,100,10)\n",
        "print('\\nVector of random integers\\n',\"-\"*50,'\\n',A)\n",
        "print('\\nHere is the sorted vector\\n',\"-\"*50,'\\n',np.sort(A))"
      ],
      "execution_count": null,
      "outputs": [
        {
          "output_type": "stream",
          "text": [
            "\n",
            "Vector of random integers\n",
            " -------------------------------------------------- \n",
            " [39 37 86 11 67 99  4 11 26 30]\n",
            "\n",
            "Here is the sorted vector\n",
            " -------------------------------------------------- \n",
            " [ 4 11 11 26 30 37 39 67 86 99]\n"
          ],
          "name": "stdout"
        }
      ]
    },
    {
      "cell_type": "code",
      "metadata": {
        "id": "9-T1eSDZOK_o"
      },
      "source": [
        ""
      ],
      "execution_count": null,
      "outputs": []
    },
    {
      "cell_type": "code",
      "metadata": {
        "colab": {
          "base_uri": "https://localhost:8080/"
        },
        "id": "qG460UmCOLCr",
        "outputId": "783dd0b9-b9dc-4714-a963-49ecc351b078"
      },
      "source": [
        "#Matrix of random integers\n",
        "\n",
        "M=ri(1,100,25).reshape(5,5)\n",
        "M"
      ],
      "execution_count": null,
      "outputs": [
        {
          "output_type": "execute_result",
          "data": {
            "text/plain": [
              "array([[ 1, 72, 14, 74,  9],\n",
              "       [78, 87, 87, 37, 41],\n",
              "       [97,  6,  9, 87,  8],\n",
              "       [39, 20, 87, 63, 98],\n",
              "       [84, 82, 33,  6, 86]])"
            ]
          },
          "metadata": {
            "tags": []
          },
          "execution_count": 50
        }
      ]
    },
    {
      "cell_type": "code",
      "metadata": {
        "colab": {
          "base_uri": "https://localhost:8080/"
        },
        "id": "wDEoq412OLGs",
        "outputId": "1a4df9e2-3e41-492f-c60d-91f1fc719213"
      },
      "source": [
        "print('\\nHere is the sorted matrix along each row\\n',\"-\"*50,\"\\n\",np.sort(M,kind='mergesort',axis=0))\n",
        "print('\\nHere is the sorted matrix along each column\\n',\"-\"*50,\"\\n\",np.sort(M,kind='mergesort',axis=1))\n",
        "\n",
        "#axis 0 and 1 signifies the movement of the data."
      ],
      "execution_count": null,
      "outputs": [
        {
          "output_type": "stream",
          "text": [
            "\n",
            "Here is the sorted matrix along each row\n",
            " -------------------------------------------------- \n",
            " [[ 1  6  9  6  8]\n",
            " [39 20 14 37  9]\n",
            " [78 72 33 63 41]\n",
            " [84 82 87 74 86]\n",
            " [97 87 87 87 98]]\n",
            "\n",
            "Here is the sorted matrix along each column\n",
            " -------------------------------------------------- \n",
            " [[ 1  9 14 72 74]\n",
            " [37 41 78 87 87]\n",
            " [ 6  8  9 87 97]\n",
            " [20 39 63 87 98]\n",
            " [ 6 33 82 84 86]]\n"
          ],
          "name": "stdout"
        }
      ]
    },
    {
      "cell_type": "code",
      "metadata": {
        "colab": {
          "base_uri": "https://localhost:8080/"
        },
        "id": "ownZFk5POLLO",
        "outputId": "fc0c6c23-8373-4b87-ac6d-e5986d9cab3e"
      },
      "source": [
        "print(\"Max of a:\",M.max())\n",
        "print(\"Max of b:\",b.max())\n",
        "b"
      ],
      "execution_count": null,
      "outputs": [
        {
          "output_type": "stream",
          "text": [
            "Max of a: 98\n",
            "Max of b: 78\n"
          ],
          "name": "stdout"
        },
        {
          "output_type": "execute_result",
          "data": {
            "text/plain": [
              "array([[[74,  6,  6, 11, 60],\n",
              "        [13, 78, 33, 77, 13],\n",
              "        [40, 13, 20, 15, 52]],\n",
              "\n",
              "       [[ 1, 44, 41, 43,  7],\n",
              "        [69, 49, 74, 42, 33],\n",
              "        [ 2, 36, 18, 55, 28]]])"
            ]
          },
          "metadata": {
            "tags": []
          },
          "execution_count": 59
        }
      ]
    },
    {
      "cell_type": "code",
      "metadata": {
        "colab": {
          "base_uri": "https://localhost:8080/"
        },
        "id": "wODtAzSaTn8p",
        "outputId": "21c41b9c-dd10-4612-a3dc-2c5aaf0a3dc1"
      },
      "source": [
        "M"
      ],
      "execution_count": null,
      "outputs": [
        {
          "output_type": "execute_result",
          "data": {
            "text/plain": [
              "array([[ 1, 72, 14, 74,  9],\n",
              "       [78, 87, 87, 37, 41],\n",
              "       [97,  6,  9, 87,  8],\n",
              "       [39, 20, 87, 63, 98],\n",
              "       [84, 82, 33,  6, 86]])"
            ]
          },
          "metadata": {
            "tags": []
          },
          "execution_count": 60
        }
      ]
    },
    {
      "cell_type": "code",
      "metadata": {
        "colab": {
          "base_uri": "https://localhost:8080/"
        },
        "id": "UciLQCpsToAR",
        "outputId": "53760021-fafe-4a9e-9038-2308cae0eeeb"
      },
      "source": [
        "print(\"Max of a location:\",M.argmax(axis=1))\n",
        "print(\"Max of b location:\",b.argmax(axis=1))\n",
        "print(\"Max of c location:\",c.argmax(axis=1))"
      ],
      "execution_count": null,
      "outputs": [
        {
          "output_type": "stream",
          "text": [
            "Max of a location: [3 1 0 4 4]\n",
            "Max of b location: [[0 1 1 1 0]\n",
            " [1 1 1 2 1]]\n",
            "Max of c location: [0 1 4 1 2 3]\n"
          ],
          "name": "stdout"
        }
      ]
    },
    {
      "cell_type": "code",
      "metadata": {
        "colab": {
          "base_uri": "https://localhost:8080/"
        },
        "id": "XTcWe5jRToE8",
        "outputId": "0395c111-c812-40fa-b84a-dc7a42a4163c"
      },
      "source": [
        "print(\"Max of a location:\",M.argmax())\n",
        "print(\"Max of b location:\",b.argmax())\n",
        "print(\"Max of c location:\",c.argmax())"
      ],
      "execution_count": null,
      "outputs": [
        {
          "output_type": "stream",
          "text": [
            "Max of a location: 19\n",
            "Max of b location: 6\n",
            "Max of c location: 6\n"
          ],
          "name": "stdout"
        }
      ]
    },
    {
      "cell_type": "markdown",
      "metadata": {
        "id": "TO45a8FcV2gP"
      },
      "source": [
        "**Indexing ans Slicing**"
      ]
    },
    {
      "cell_type": "code",
      "metadata": {
        "colab": {
          "base_uri": "https://localhost:8080/"
        },
        "id": "HJA1rGDIToH6",
        "outputId": "93171bad-5ef3-449d-a011-e6db0fbf34ff"
      },
      "source": [
        "arr=np.arange(0,11)\n",
        "print(\"Array\",arr)"
      ],
      "execution_count": null,
      "outputs": [
        {
          "output_type": "stream",
          "text": [
            "Array [ 0  1  2  3  4  5  6  7  8  9 10]\n"
          ],
          "name": "stdout"
        }
      ]
    },
    {
      "cell_type": "code",
      "metadata": {
        "colab": {
          "base_uri": "https://localhost:8080/"
        },
        "id": "9rly8itfToKc",
        "outputId": "07a96a61-a3ce-443e-83fe-ac63e84ff992"
      },
      "source": [
        "print(\"Element of 7th Index is:\",arr[7])"
      ],
      "execution_count": null,
      "outputs": [
        {
          "output_type": "stream",
          "text": [
            "Element of 7th Index is: 7\n"
          ],
          "name": "stdout"
        }
      ]
    },
    {
      "cell_type": "code",
      "metadata": {
        "colab": {
          "base_uri": "https://localhost:8080/"
        },
        "id": "JAdNb9y8ToNr",
        "outputId": "ac224eaa-2577-498c-964d-dde155fb40b3"
      },
      "source": [
        "print(\"Elements from 3rd to 5th Index are:\",arr[3:6:2])"
      ],
      "execution_count": null,
      "outputs": [
        {
          "output_type": "stream",
          "text": [
            "Elements from 3rd to 5th Index are: [3 5]\n"
          ],
          "name": "stdout"
        }
      ]
    },
    {
      "cell_type": "code",
      "metadata": {
        "colab": {
          "base_uri": "https://localhost:8080/"
        },
        "id": "O-AcxAEJToRd",
        "outputId": "fca1e661-7009-4248-f757-e3e3b4cad507"
      },
      "source": [
        "print(\"Elements upto 4th index:\",arr[:4])"
      ],
      "execution_count": null,
      "outputs": [
        {
          "output_type": "stream",
          "text": [
            "Elements upto 4th index: [0 1 2 3]\n"
          ],
          "name": "stdout"
        }
      ]
    },
    {
      "cell_type": "code",
      "metadata": {
        "colab": {
          "base_uri": "https://localhost:8080/"
        },
        "id": "BTEKHQX7OLN6",
        "outputId": "8c5609a9-2671-4dec-9892-626b6127357f"
      },
      "source": [
        "print(\"Elements from last backwards are:\",arr[-1:7:-1])"
      ],
      "execution_count": null,
      "outputs": [
        {
          "output_type": "stream",
          "text": [
            "Elements from last backwards are: [10  9  8]\n"
          ],
          "name": "stdout"
        }
      ]
    },
    {
      "cell_type": "code",
      "metadata": {
        "colab": {
          "base_uri": "https://localhost:8080/"
        },
        "id": "gd9O5CMNOLQz",
        "outputId": "08f821ce-de2c-4f01-f25b-cf0b08c6f014"
      },
      "source": [
        "arr=np.arange(0,21,2)\n",
        "print('New array',arr)"
      ],
      "execution_count": 2,
      "outputs": [
        {
          "output_type": "stream",
          "text": [
            "New array [ 0  2  4  6  8 10 12 14 16 18 20]\n"
          ],
          "name": "stdout"
        }
      ]
    },
    {
      "cell_type": "code",
      "metadata": {
        "id": "ZCRCIK2BOLTk",
        "colab": {
          "base_uri": "https://localhost:8080/"
        },
        "outputId": "1105a067-a945-4fa0-9e7e-a1659506a5e0"
      },
      "source": [
        "print('Elements at 2nd, 4th and 9th index are:',arr[[2,4,9]]) #pass a list as an index to subset. "
      ],
      "execution_count": 6,
      "outputs": [
        {
          "output_type": "stream",
          "text": [
            "Elements at 2nd, 4th and 9th index are: [ 4  8 18]\n"
          ],
          "name": "stdout"
        }
      ]
    },
    {
      "cell_type": "code",
      "metadata": {
        "id": "zv221N_kOLX2",
        "colab": {
          "base_uri": "https://localhost:8080/"
        },
        "outputId": "fd2d7701-937c-4dc3-9d3c-76ce3dbbcae9"
      },
      "source": [
        "import numpy as np\n",
        "mat=np.array(ri(10,100,45)).reshape(3,5,3)\n",
        "print(\"Matrix of random 2 digit numbers\\n------------------------\\n\",mat)"
      ],
      "execution_count": 6,
      "outputs": [
        {
          "output_type": "stream",
          "text": [
            "Matrix of random 2 digit numbers\n",
            "------------------------\n",
            " [[[11 84 70]\n",
            "  [26 85 69]\n",
            "  [84 23 24]\n",
            "  [51 34 40]\n",
            "  [89 99 42]]\n",
            "\n",
            " [[53 78 19]\n",
            "  [44 45 39]\n",
            "  [48 20 83]\n",
            "  [24 32 84]\n",
            "  [93 48 68]]\n",
            "\n",
            " [[50 61 83]\n",
            "  [39 63 37]\n",
            "  [93 15 55]\n",
            "  [87 31 30]\n",
            "  [99 89 70]]]\n"
          ],
          "name": "stdout"
        }
      ]
    },
    {
      "cell_type": "code",
      "metadata": {
        "id": "WHldFHcfOLay",
        "colab": {
          "base_uri": "https://localhost:8080/"
        },
        "outputId": "be604c84-a01e-41b3-a174-b1303919acdd"
      },
      "source": [
        "mat[1:4,3:5]"
      ],
      "execution_count": 3,
      "outputs": [
        {
          "output_type": "execute_result",
          "data": {
            "text/plain": [
              "array([[60, 90],\n",
              "       [62, 54]])"
            ]
          },
          "metadata": {
            "tags": []
          },
          "execution_count": 3
        }
      ]
    },
    {
      "cell_type": "code",
      "metadata": {
        "id": "czBvvW74NsFR",
        "colab": {
          "base_uri": "https://localhost:8080/"
        },
        "outputId": "17c13dd1-c101-4f4a-ef29-96fe8ead4e1c"
      },
      "source": [
        "mat[1,1] "
      ],
      "execution_count": 8,
      "outputs": [
        {
          "output_type": "execute_result",
          "data": {
            "text/plain": [
              "array([44, 45, 39])"
            ]
          },
          "metadata": {
            "tags": []
          },
          "execution_count": 8
        }
      ]
    },
    {
      "cell_type": "code",
      "metadata": {
        "id": "fTZdVFfhNsIt",
        "colab": {
          "base_uri": "https://localhost:8080/"
        },
        "outputId": "5d79239f-34da-4087-9789-f761c44e9648"
      },
      "source": [
        "mat[1][1]"
      ],
      "execution_count": 9,
      "outputs": [
        {
          "output_type": "execute_result",
          "data": {
            "text/plain": [
              "array([44, 45, 39])"
            ]
          },
          "metadata": {
            "tags": []
          },
          "execution_count": 9
        }
      ]
    },
    {
      "cell_type": "code",
      "metadata": {
        "id": "_89GgirGNsNJ",
        "colab": {
          "base_uri": "https://localhost:8080/"
        },
        "outputId": "d1682c7c-3110-498b-82da-b872a06b6e97"
      },
      "source": [
        "mat[1][1][0]"
      ],
      "execution_count": 10,
      "outputs": [
        {
          "output_type": "execute_result",
          "data": {
            "text/plain": [
              "44"
            ]
          },
          "metadata": {
            "tags": []
          },
          "execution_count": 10
        }
      ]
    },
    {
      "cell_type": "code",
      "metadata": {
        "colab": {
          "base_uri": "https://localhost:8080/"
        },
        "id": "QjrNIpaKoHni",
        "outputId": "e631beb4-2ee9-4968-8791-29e47f1e1a95"
      },
      "source": [
        "mat[0][:,1]"
      ],
      "execution_count": 13,
      "outputs": [
        {
          "output_type": "execute_result",
          "data": {
            "text/plain": [
              "array([84, 85, 23, 34, 99])"
            ]
          },
          "metadata": {
            "tags": []
          },
          "execution_count": 13
        }
      ]
    },
    {
      "cell_type": "code",
      "metadata": {
        "colab": {
          "base_uri": "https://localhost:8080/"
        },
        "id": "gP6wmk1MoHrq",
        "outputId": "b2281c00-f5d6-41c2-ea81-926f4d96ae8c"
      },
      "source": [
        "mat[0:3,0:2]"
      ],
      "execution_count": 17,
      "outputs": [
        {
          "output_type": "execute_result",
          "data": {
            "text/plain": [
              "array([[[11, 84, 70],\n",
              "        [26, 85, 69]],\n",
              "\n",
              "       [[53, 78, 19],\n",
              "        [44, 45, 39]],\n",
              "\n",
              "       [[50, 61, 83],\n",
              "        [39, 63, 37]]])"
            ]
          },
          "metadata": {
            "tags": []
          },
          "execution_count": 17
        }
      ]
    },
    {
      "cell_type": "code",
      "metadata": {
        "colab": {
          "base_uri": "https://localhost:8080/"
        },
        "id": "p3WfZ3GyoHus",
        "outputId": "c83837c3-8962-4dba-ca47-a12de411c7e4"
      },
      "source": [
        "mat[0:3,[0,1]]"
      ],
      "execution_count": 18,
      "outputs": [
        {
          "output_type": "execute_result",
          "data": {
            "text/plain": [
              "array([[[11, 84, 70],\n",
              "        [26, 85, 69]],\n",
              "\n",
              "       [[53, 78, 19],\n",
              "        [44, 45, 39]],\n",
              "\n",
              "       [[50, 61, 83],\n",
              "        [39, 63, 37]]])"
            ]
          },
          "metadata": {
            "tags": []
          },
          "execution_count": 18
        }
      ]
    },
    {
      "cell_type": "code",
      "metadata": {
        "colab": {
          "base_uri": "https://localhost:8080/"
        },
        "id": "YlkhQ1YgoHyN",
        "outputId": "d9f255c0-6b56-46c5-eefd-30ca944892ee"
      },
      "source": [
        "for i in range(3):\n",
        "  print(mat[i][0:2,:])"
      ],
      "execution_count": 21,
      "outputs": [
        {
          "output_type": "stream",
          "text": [
            "[[11 84 70]\n",
            " [26 85 69]]\n",
            "[[53 78 19]\n",
            " [44 45 39]]\n",
            "[[50 61 83]\n",
            " [39 63 37]]\n"
          ],
          "name": "stdout"
        }
      ]
    },
    {
      "cell_type": "markdown",
      "metadata": {
        "id": "S9rV2Ma0tN1u"
      },
      "source": [
        "**Subsetting**"
      ]
    },
    {
      "cell_type": "code",
      "metadata": {
        "colab": {
          "base_uri": "https://localhost:8080/"
        },
        "id": "djetpynSoH3I",
        "outputId": "521d4256-c7b4-4c9e-e30d-7c65644f15e6"
      },
      "source": [
        "mat=np.array(ri(10,100,15).reshape(3,5))\n",
        "print('Matrix of random 2 digit numbers\\n---------------------\\n',mat)"
      ],
      "execution_count": 23,
      "outputs": [
        {
          "output_type": "stream",
          "text": [
            "Matrix of random 2 digit numbers\n",
            "---------------------\n",
            " [[74 57 90 35 15]\n",
            " [33 84 69 14 81]\n",
            " [59 58 34 50 82]]\n"
          ],
          "name": "stdout"
        }
      ]
    },
    {
      "cell_type": "code",
      "metadata": {
        "colab": {
          "base_uri": "https://localhost:8080/"
        },
        "id": "BICi1Mj1oH5x",
        "outputId": "87be097e-187c-47ef-851c-cab52381346b"
      },
      "source": [
        "mat>50"
      ],
      "execution_count": 24,
      "outputs": [
        {
          "output_type": "execute_result",
          "data": {
            "text/plain": [
              "array([[ True,  True,  True, False, False],\n",
              "       [False,  True,  True, False,  True],\n",
              "       [ True,  True, False, False,  True]])"
            ]
          },
          "metadata": {
            "tags": []
          },
          "execution_count": 24
        }
      ]
    },
    {
      "cell_type": "code",
      "metadata": {
        "colab": {
          "base_uri": "https://localhost:8080/"
        },
        "id": "hwXXQFxGoH8p",
        "outputId": "a17dbfb8-ca3d-4ddd-9f6d-d17657bf6f88"
      },
      "source": [
        "print('Elements greater than 50\\n---------------------------\\n',mat[mat>50])"
      ],
      "execution_count": 26,
      "outputs": [
        {
          "output_type": "stream",
          "text": [
            "Elements greater than 50\n",
            "---------------------------\n",
            " [74 57 90 84 69 81 59 58 82]\n"
          ],
          "name": "stdout"
        }
      ]
    },
    {
      "cell_type": "markdown",
      "metadata": {
        "id": "FiM6KH9RuFFe"
      },
      "source": [
        "**Universal Functions**\n",
        "\n"
      ]
    },
    {
      "cell_type": "code",
      "metadata": {
        "colab": {
          "base_uri": "https://localhost:8080/"
        },
        "id": "yet_QToHt53m",
        "outputId": "6295b075-6059-413f-86b8-358f5e4d07a4"
      },
      "source": [
        "mat1=np.array(ri(1,10,9)).reshape(3,3)\n",
        "mat2=np.array(ri(1,10,9)).reshape(3,3)\n",
        "print('1st Matrix of single digit number:\\n------------------------------\\n',mat1)\n",
        "print('2nd Matrix of single digit number:\\n------------------------------\\n',mat2)"
      ],
      "execution_count": 28,
      "outputs": [
        {
          "output_type": "stream",
          "text": [
            "1st Matrix of single digit number:\n",
            "------------------------------\n",
            " [[2 7 3]\n",
            " [3 2 3]\n",
            " [7 9 9]]\n",
            "2nd Matrix of single digit number:\n",
            "------------------------------\n",
            " [[1 4 7]\n",
            " [3 1 9]\n",
            " [4 5 3]]\n"
          ],
          "name": "stdout"
        }
      ]
    },
    {
      "cell_type": "code",
      "metadata": {
        "colab": {
          "base_uri": "https://localhost:8080/"
        },
        "id": "Vp9Aqamot589",
        "outputId": "9e9c3492-8c89-4f66-caf1-0d42b28c58cd"
      },
      "source": [
        "mat1*mat2"
      ],
      "execution_count": 29,
      "outputs": [
        {
          "output_type": "execute_result",
          "data": {
            "text/plain": [
              "array([[ 2, 28, 21],\n",
              "       [ 9,  2, 27],\n",
              "       [28, 45, 27]])"
            ]
          },
          "metadata": {
            "tags": []
          },
          "execution_count": 29
        }
      ]
    },
    {
      "cell_type": "code",
      "metadata": {
        "colab": {
          "base_uri": "https://localhost:8080/"
        },
        "id": "BODeb9qnt6Aw",
        "outputId": "84b70d8b-8660-4bc1-e7c8-253e9d31c146"
      },
      "source": [
        "mat1@mat2       "
      ],
      "execution_count": 30,
      "outputs": [
        {
          "output_type": "execute_result",
          "data": {
            "text/plain": [
              "array([[ 35,  30,  86],\n",
              "       [ 21,  29,  48],\n",
              "       [ 70,  82, 157]])"
            ]
          },
          "metadata": {
            "tags": []
          },
          "execution_count": 30
        }
      ]
    },
    {
      "cell_type": "code",
      "metadata": {
        "colab": {
          "base_uri": "https://localhost:8080/"
        },
        "id": "LN9yEv-Bt6Fm",
        "outputId": "9961e3d5-1361-4b5b-bece-a4f142baf679"
      },
      "source": [
        "print('Addition\\n-------------\\n',mat1+mat2)"
      ],
      "execution_count": 32,
      "outputs": [
        {
          "output_type": "stream",
          "text": [
            "Addition\n",
            "-------------\n",
            " [[ 3 11 10]\n",
            " [ 6  3 12]\n",
            " [11 14 12]]\n"
          ],
          "name": "stdout"
        }
      ]
    },
    {
      "cell_type": "code",
      "metadata": {
        "colab": {
          "base_uri": "https://localhost:8080/"
        },
        "id": "yJtbRcvht6Lm",
        "outputId": "64949e54-cf59-40a4-b034-4915f31027c4"
      },
      "source": [
        "print('Multiplication\\n-------------\\n',mat1*mat2)"
      ],
      "execution_count": 33,
      "outputs": [
        {
          "output_type": "stream",
          "text": [
            "Multiplication\n",
            "-------------\n",
            " [[ 2 28 21]\n",
            " [ 9  2 27]\n",
            " [28 45 27]]\n"
          ],
          "name": "stdout"
        }
      ]
    },
    {
      "cell_type": "code",
      "metadata": {
        "colab": {
          "base_uri": "https://localhost:8080/",
          "height": 201
        },
        "id": "3Gf0qb5rt6VF",
        "outputId": "a14316c7-3d48-4023-d23c-afc92738af42"
      },
      "source": [
        "#exception in python\n",
        "\n",
        "2/0"
      ],
      "execution_count": 34,
      "outputs": [
        {
          "output_type": "error",
          "ename": "ZeroDivisionError",
          "evalue": "ignored",
          "traceback": [
            "\u001b[0;31m---------------------------------------------------------------------------\u001b[0m",
            "\u001b[0;31mZeroDivisionError\u001b[0m                         Traceback (most recent call last)",
            "\u001b[0;32m<ipython-input-34-119a1f9c1ef7>\u001b[0m in \u001b[0;36m<module>\u001b[0;34m()\u001b[0m\n\u001b[1;32m      1\u001b[0m \u001b[0;31m#exception in python\u001b[0m\u001b[0;34m\u001b[0m\u001b[0;34m\u001b[0m\u001b[0;34m\u001b[0m\u001b[0m\n\u001b[1;32m      2\u001b[0m \u001b[0;34m\u001b[0m\u001b[0m\n\u001b[0;32m----> 3\u001b[0;31m \u001b[0;36m2\u001b[0m\u001b[0;34m/\u001b[0m\u001b[0;36m0\u001b[0m\u001b[0;34m\u001b[0m\u001b[0;34m\u001b[0m\u001b[0m\n\u001b[0m",
            "\u001b[0;31mZeroDivisionError\u001b[0m: division by zero"
          ]
        }
      ]
    },
    {
      "cell_type": "code",
      "metadata": {
        "colab": {
          "base_uri": "https://localhost:8080/"
        },
        "id": "rDqiTEKOw-yb",
        "outputId": "d6c54d2a-df11-4349-dbb7-831dad29124a"
      },
      "source": [
        "print('Division\\n-------------------\\n',mat1/0)"
      ],
      "execution_count": 38,
      "outputs": [
        {
          "output_type": "stream",
          "text": [
            "Division\n",
            "-------------------\n",
            " [[inf inf inf]\n",
            " [inf inf inf]\n",
            " [inf inf inf]]\n"
          ],
          "name": "stdout"
        }
      ]
    },
    {
      "cell_type": "code",
      "metadata": {
        "colab": {
          "base_uri": "https://localhost:8080/"
        },
        "id": "iWPBo4zpw-1Q",
        "outputId": "74d585ec-9c2c-4f61-cc9f-d2f10bce942c"
      },
      "source": [
        "print('Addition of a scaler(100)\\n-------------------------\\n',100+mat1)"
      ],
      "execution_count": 40,
      "outputs": [
        {
          "output_type": "stream",
          "text": [
            "Addition of a scaler(100)\n",
            "-------------------------\n",
            " [[102 107 103]\n",
            " [103 102 103]\n",
            " [107 109 109]]\n"
          ],
          "name": "stdout"
        }
      ]
    },
    {
      "cell_type": "code",
      "metadata": {
        "colab": {
          "base_uri": "https://localhost:8080/"
        },
        "id": "keQ2_GeTw-4x",
        "outputId": "f801cced-b79e-4aa8-d20c-e2ec4116d5c5"
      },
      "source": [
        "print('Exponentiation,matrix cubed here\\n-----------------------\\n',mat1**3)\n",
        "print('Exponentiation,square root using power function\\n-----------------------\\n',pow(mat1,3))"
      ],
      "execution_count": 41,
      "outputs": [
        {
          "output_type": "stream",
          "text": [
            "Exponentiation,matrix cubed here\n",
            "-----------------------\n",
            " [[  8 343  27]\n",
            " [ 27   8  27]\n",
            " [343 729 729]]\n",
            "Exponentiation,square root using power function\n",
            "-----------------------\n",
            " [[  8 343  27]\n",
            " [ 27   8  27]\n",
            " [343 729 729]]\n"
          ],
          "name": "stdout"
        }
      ]
    },
    {
      "cell_type": "markdown",
      "metadata": {
        "id": "yP4PrfGszjRE"
      },
      "source": [
        "**Broadcast**"
      ]
    },
    {
      "cell_type": "code",
      "metadata": {
        "colab": {
          "base_uri": "https://localhost:8080/"
        },
        "id": "3NKEZfU4w-8z",
        "outputId": "fdc069ea-e441-4347-8c1e-6e123a7db877"
      },
      "source": [
        "start=np.zeros((4,4))\n",
        "start=start+100\n",
        "start"
      ],
      "execution_count": 45,
      "outputs": [
        {
          "output_type": "execute_result",
          "data": {
            "text/plain": [
              "array([[100., 100., 100., 100.],\n",
              "       [100., 100., 100., 100.],\n",
              "       [100., 100., 100., 100.],\n",
              "       [100., 100., 100., 100.]])"
            ]
          },
          "metadata": {
            "tags": []
          },
          "execution_count": 45
        }
      ]
    },
    {
      "cell_type": "code",
      "metadata": {
        "colab": {
          "base_uri": "https://localhost:8080/"
        },
        "id": "T-6MOMDBw-_b",
        "outputId": "6e6cb0fd-4a3e-42bd-e3e4-8b696b26f766"
      },
      "source": [
        "#row wise broadcasting operation\n",
        "add_rows=np.array([1,0,2,5])\n",
        "print(add_rows)"
      ],
      "execution_count": 48,
      "outputs": [
        {
          "output_type": "stream",
          "text": [
            "[1 0 2 5]\n"
          ],
          "name": "stdout"
        }
      ]
    },
    {
      "cell_type": "code",
      "metadata": {
        "colab": {
          "base_uri": "https://localhost:8080/"
        },
        "id": "P8nI5UFtw_D0",
        "outputId": "c334c5f0-1f39-43d5-ca8c-643387bfe7d5"
      },
      "source": [
        "y=start+add_rows  # add to each row of start using broadcasting \n",
        "print(y)"
      ],
      "execution_count": 51,
      "outputs": [
        {
          "output_type": "stream",
          "text": [
            "[[101. 100. 102. 105.]\n",
            " [101. 100. 102. 105.]\n",
            " [101. 100. 102. 105.]\n",
            " [101. 100. 102. 105.]]\n"
          ],
          "name": "stdout"
        }
      ]
    },
    {
      "cell_type": "code",
      "metadata": {
        "colab": {
          "base_uri": "https://localhost:8080/"
        },
        "id": "J_8NxTkat6Ys",
        "outputId": "b0e97ed4-a30c-410c-e8da-441775a9eaa3"
      },
      "source": [
        "#column wise broadcasting\n",
        "\n",
        "add_cols=np.array([[0,1,2,3]])\n",
        "add_cols=add_cols.T    #Transpose operation is must in column wise broadcasting \n",
        "add_cols\n",
        "\n"
      ],
      "execution_count": 55,
      "outputs": [
        {
          "output_type": "execute_result",
          "data": {
            "text/plain": [
              "array([[0],\n",
              "       [1],\n",
              "       [2],\n",
              "       [3]])"
            ]
          },
          "metadata": {
            "tags": []
          },
          "execution_count": 55
        }
      ]
    },
    {
      "cell_type": "code",
      "metadata": {
        "colab": {
          "base_uri": "https://localhost:8080/"
        },
        "id": "bA0NfsJ7t6bg",
        "outputId": "6249891e-d5bd-4ece-c6c6-f14160e16700"
      },
      "source": [
        "np.array([[0,1,2,3]])"
      ],
      "execution_count": 57,
      "outputs": [
        {
          "output_type": "execute_result",
          "data": {
            "text/plain": [
              "array([[0, 1, 2, 3]])"
            ]
          },
          "metadata": {
            "tags": []
          },
          "execution_count": 57
        }
      ]
    },
    {
      "cell_type": "code",
      "metadata": {
        "colab": {
          "base_uri": "https://localhost:8080/"
        },
        "id": "2IKWOK0c1mlq",
        "outputId": "0f9b4c5c-2030-48ea-a038-849714e42452"
      },
      "source": [
        "np.array([[0,1,2,3]]).T"
      ],
      "execution_count": 58,
      "outputs": [
        {
          "output_type": "execute_result",
          "data": {
            "text/plain": [
              "array([[0],\n",
              "       [1],\n",
              "       [2],\n",
              "       [3]])"
            ]
          },
          "metadata": {
            "tags": []
          },
          "execution_count": 58
        }
      ]
    },
    {
      "cell_type": "code",
      "metadata": {
        "colab": {
          "base_uri": "https://localhost:8080/"
        },
        "id": "A6nKvFJ41moz",
        "outputId": "84002858-2173-4112-a430-3867c599fcbd"
      },
      "source": [
        "y1=start+add_cols\n",
        "print(y1)"
      ],
      "execution_count": 59,
      "outputs": [
        {
          "output_type": "stream",
          "text": [
            "[[100. 100. 100. 100.]\n",
            " [101. 101. 101. 101.]\n",
            " [102. 102. 102. 102.]\n",
            " [103. 103. 103. 103.]]\n"
          ],
          "name": "stdout"
        }
      ]
    },
    {
      "cell_type": "code",
      "metadata": {
        "colab": {
          "base_uri": "https://localhost:8080/"
        },
        "id": "UzKLZ4yO1msZ",
        "outputId": "f5c98cb4-f029-4177-935f-d3e62a9576f8"
      },
      "source": [
        "#this will just broadcast in both directions\n",
        "\n",
        "add_scaler=np.array([100])\n",
        "print(start+y)"
      ],
      "execution_count": 61,
      "outputs": [
        {
          "output_type": "stream",
          "text": [
            "[[201. 200. 202. 205.]\n",
            " [201. 200. 202. 205.]\n",
            " [201. 200. 202. 205.]\n",
            " [201. 200. 202. 205.]]\n"
          ],
          "name": "stdout"
        }
      ]
    },
    {
      "cell_type": "markdown",
      "metadata": {
        "id": "QYvkmsb02SNC"
      },
      "source": [
        "**Array Math**"
      ]
    },
    {
      "cell_type": "code",
      "metadata": {
        "colab": {
          "base_uri": "https://localhost:8080/"
        },
        "id": "SJs9zF1S2QNQ",
        "outputId": "5823d823-17b5-4f14-80b9-aad9f80701fd"
      },
      "source": [
        "mat1=np.array(ri(1,10,9)).reshape(3,3)\n",
        "mat2=np.array(ri(1,10,9)).reshape(3,3)\n",
        "print('1st matrix of random single digit\\n---------------------------------\\n',mat1)\n",
        "print('2nd matrix of random single digit\\n---------------------------------\\n',mat2)"
      ],
      "execution_count": 63,
      "outputs": [
        {
          "output_type": "stream",
          "text": [
            "1st matrix of random single digit\n",
            "---------------------------------\n",
            " [[2 3 9]\n",
            " [4 8 9]\n",
            " [8 2 9]]\n",
            "2nd matrix of random single digit\n",
            "---------------------------------\n",
            " [[3 5 4]\n",
            " [3 1 2]\n",
            " [2 1 9]]\n"
          ],
          "name": "stdout"
        }
      ]
    },
    {
      "cell_type": "code",
      "metadata": {
        "colab": {
          "base_uri": "https://localhost:8080/"
        },
        "id": "esCoADP72QQd",
        "outputId": "a083002f-1bd6-4f6b-86cb-625dac4d35d7"
      },
      "source": [
        "print('Square root of 1st matrix using np\\n---------------------------------------\\n',np.sqrt(mat1))"
      ],
      "execution_count": 66,
      "outputs": [
        {
          "output_type": "stream",
          "text": [
            "Square root of 1st matrix using np\n",
            "---------------------------------------\n",
            " [[1.41421356 1.73205081 3.        ]\n",
            " [2.         2.82842712 3.        ]\n",
            " [2.82842712 1.41421356 3.        ]]\n"
          ],
          "name": "stdout"
        }
      ]
    },
    {
      "cell_type": "code",
      "metadata": {
        "colab": {
          "base_uri": "https://localhost:8080/"
        },
        "id": "VX8dmTV_2QUl",
        "outputId": "1ced4915-26cf-43c1-b927-2f5d59d9b6e1"
      },
      "source": [
        "print('Exponential power of 1st matrix using np\\n----------------------------------------------\\n',np.exp(mat1))"
      ],
      "execution_count": 68,
      "outputs": [
        {
          "output_type": "stream",
          "text": [
            "Exponential power of 1st matrix using np\n",
            "----------------------------------------------\n",
            " [[7.38905610e+00 2.00855369e+01 8.10308393e+03]\n",
            " [5.45981500e+01 2.98095799e+03 8.10308393e+03]\n",
            " [2.98095799e+03 7.38905610e+00 8.10308393e+03]]\n"
          ],
          "name": "stdout"
        }
      ]
    },
    {
      "cell_type": "code",
      "metadata": {
        "colab": {
          "base_uri": "https://localhost:8080/"
        },
        "id": "OfhSDZRE2QYE",
        "outputId": "58553f30-1f45-4882-aab6-01dcb83eda6a"
      },
      "source": [
        "print('Exponential power of 1st matrix using np\\n','-'*50,'\\n',np.exp(mat1))"
      ],
      "execution_count": 70,
      "outputs": [
        {
          "output_type": "stream",
          "text": [
            "Exponential power of 1st matrix using np\n",
            " -------------------------------------------------- \n",
            " [[7.38905610e+00 2.00855369e+01 8.10308393e+03]\n",
            " [5.45981500e+01 2.98095799e+03 8.10308393e+03]\n",
            " [2.98095799e+03 7.38905610e+00 8.10308393e+03]]\n"
          ],
          "name": "stdout"
        }
      ]
    },
    {
      "cell_type": "code",
      "metadata": {
        "colab": {
          "base_uri": "https://localhost:8080/"
        },
        "id": "0MF-c-ki2Qa1",
        "outputId": "b9e5b9a8-b27e-49b8-9254-2c702cdad647"
      },
      "source": [
        "print('10-base logarithm on 1st matrix using np\\n','-'*50,'\\n',np.log10(mat1))"
      ],
      "execution_count": 75,
      "outputs": [
        {
          "output_type": "stream",
          "text": [
            "10-base logarithm on 1st matrix using np\n",
            " -------------------------------------------------- \n",
            " [[0.30103    0.47712125 0.95424251]\n",
            " [0.60205999 0.90308999 0.95424251]\n",
            " [0.90308999 0.30103    0.95424251]]\n"
          ],
          "name": "stdout"
        }
      ]
    },
    {
      "cell_type": "code",
      "metadata": {
        "colab": {
          "base_uri": "https://localhost:8080/"
        },
        "id": "JozIGaqWB4HY",
        "outputId": "cad5fed9-17e9-42ff-fd6b-45de81ef79f5"
      },
      "source": [
        "print('10-base logarithm on 1st matrix using np\\n','-'*50,'\\n',np.log10(mat2))"
      ],
      "execution_count": 76,
      "outputs": [
        {
          "output_type": "stream",
          "text": [
            "10-base logarithm on 1st matrix using np\n",
            " -------------------------------------------------- \n",
            " [[0.47712125 0.69897    0.60205999]\n",
            " [0.47712125 0.         0.30103   ]\n",
            " [0.30103    0.         0.95424251]]\n"
          ],
          "name": "stdout"
        }
      ]
    },
    {
      "cell_type": "code",
      "metadata": {
        "colab": {
          "base_uri": "https://localhost:8080/"
        },
        "id": "OJOCOhlNB4M9",
        "outputId": "0247e785-8e79-494e-bc54-2f1348895b7b"
      },
      "source": [
        "print('Modulo reminder using np\\n','-'*50,'\\n',np.fmod(mat1,mat2))"
      ],
      "execution_count": 77,
      "outputs": [
        {
          "output_type": "stream",
          "text": [
            "Modulo reminder using np\n",
            " -------------------------------------------------- \n",
            " [[2 3 1]\n",
            " [1 0 1]\n",
            " [0 0 0]]\n"
          ],
          "name": "stdout"
        }
      ]
    },
    {
      "cell_type": "code",
      "metadata": {
        "colab": {
          "base_uri": "https://localhost:8080/"
        },
        "id": "L9nqyhrTB4Qk",
        "outputId": "8faa48f2-a709-4af8-c94f-a4467482f0f3"
      },
      "source": [
        "mat1%mat2"
      ],
      "execution_count": 78,
      "outputs": [
        {
          "output_type": "execute_result",
          "data": {
            "text/plain": [
              "array([[2, 3, 1],\n",
              "       [1, 0, 1],\n",
              "       [0, 0, 0]])"
            ]
          },
          "metadata": {
            "tags": []
          },
          "execution_count": 78
        }
      ]
    },
    {
      "cell_type": "code",
      "metadata": {
        "colab": {
          "base_uri": "https://localhost:8080/"
        },
        "id": "orXaZackB4Uz",
        "outputId": "75714e6d-2d68-4285-a885-01d821b6406c"
      },
      "source": [
        "print('Combination of functions showing exponential decay of a sine wave\\n','-'*70)"
      ],
      "execution_count": 79,
      "outputs": [
        {
          "output_type": "stream",
          "text": [
            "Combination of functions showing exponential decay of a sine wave\n",
            " ----------------------------------------------------------------------\n"
          ],
          "name": "stdout"
        }
      ]
    },
    {
      "cell_type": "code",
      "metadata": {
        "colab": {
          "base_uri": "https://localhost:8080/"
        },
        "id": "wkMgdSbIB4Yu",
        "outputId": "05f2f343-a0f9-4030-f1b7-86ce14d27621"
      },
      "source": [
        "A=np.linspace(0,12*np.pi,1001)\n",
        "A"
      ],
      "execution_count": 81,
      "outputs": [
        {
          "output_type": "execute_result",
          "data": {
            "text/plain": [
              "array([ 0.        ,  0.03769911,  0.07539822, ..., 37.62371362,\n",
              "       37.66141273, 37.69911184])"
            ]
          },
          "metadata": {
            "tags": []
          },
          "execution_count": 81
        }
      ]
    },
    {
      "cell_type": "code",
      "metadata": {
        "id": "8Bpta597B4b4"
      },
      "source": [
        ""
      ],
      "execution_count": null,
      "outputs": []
    },
    {
      "cell_type": "code",
      "metadata": {
        "id": "g8Np6NFFB4e-"
      },
      "source": [
        ""
      ],
      "execution_count": null,
      "outputs": []
    },
    {
      "cell_type": "code",
      "metadata": {
        "id": "fsvFaqnGB4h1"
      },
      "source": [
        ""
      ],
      "execution_count": null,
      "outputs": []
    },
    {
      "cell_type": "code",
      "metadata": {
        "id": "LEkmQgeWB4kd"
      },
      "source": [
        ""
      ],
      "execution_count": null,
      "outputs": []
    },
    {
      "cell_type": "code",
      "metadata": {
        "id": "1dij_XJjB4oz"
      },
      "source": [
        ""
      ],
      "execution_count": null,
      "outputs": []
    }
  ]
}